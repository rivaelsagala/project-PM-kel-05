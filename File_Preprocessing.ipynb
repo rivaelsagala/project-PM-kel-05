{
 "cells": [
  {
   "cell_type": "markdown",
   "id": "d2426dbe-e189-4e1f-96ff-f1aedaf389a9",
   "metadata": {},
   "source": [
    "## Mempersiapkan Data-set"
   ]
  },
  {
   "cell_type": "code",
   "execution_count": 1,
   "id": "bd74f751-b392-4113-9066-2e6f713ec46f",
   "metadata": {},
   "outputs": [],
   "source": [
    "import os"
   ]
  },
  {
   "cell_type": "code",
   "execution_count": 2,
   "id": "e9b9197b-1a31-4039-ad19-7727295c9ffb",
   "metadata": {},
   "outputs": [],
   "source": [
    "mypath= 'Original_dataset/'"
   ]
  },
  {
   "cell_type": "code",
   "execution_count": 3,
   "id": "90b3b467-3ca6-48c1-bb93-57c93205616b",
   "metadata": {},
   "outputs": [],
   "source": [
    "file_name = []\n",
    "tag = []\n",
    "full_path = []\n",
    "for path, subdirs, files in os.walk(mypath):\n",
    "    for name in files:\n",
    "        full_path.append(os.path.join(path, name)) \n",
    "        tag.append(path.split('/')[-1])        \n",
    "        file_name.append(name)"
   ]
  },
  {
   "cell_type": "code",
   "execution_count": 4,
   "id": "9323ee7d-dcc7-41c7-8f3d-9cb26b02cf0f",
   "metadata": {},
   "outputs": [],
   "source": [
    "import pandas as pd"
   ]
  },
  {
   "cell_type": "code",
   "execution_count": 5,
   "id": "d3198b1d-297b-4849-8749-05279a818094",
   "metadata": {},
   "outputs": [
    {
     "data": {
      "text/plain": [
       "tag\n",
       "mujahir      237\n",
       "red_devil    217\n",
       "sepat        298\n",
       "dtype: int64"
      ]
     },
     "execution_count": 5,
     "metadata": {},
     "output_type": "execute_result"
    }
   ],
   "source": [
    "\n",
    "# memasukan variabel yang sudah dikumpulkan pada looping di atas menjadi sebuah dataframe agar rapih\n",
    "df = pd.DataFrame({\"path\":full_path,'file_name':file_name,\"tag\":tag})\n",
    "df.groupby(['tag']).size()"
   ]
  },
  {
   "cell_type": "code",
   "execution_count": 6,
   "id": "94e1bb13-e5a4-407b-b860-13174d300203",
   "metadata": {},
   "outputs": [
    {
     "data": {
      "text/html": [
       "<div>\n",
       "<style scoped>\n",
       "    .dataframe tbody tr th:only-of-type {\n",
       "        vertical-align: middle;\n",
       "    }\n",
       "\n",
       "    .dataframe tbody tr th {\n",
       "        vertical-align: top;\n",
       "    }\n",
       "\n",
       "    .dataframe thead th {\n",
       "        text-align: right;\n",
       "    }\n",
       "</style>\n",
       "<table border=\"1\" class=\"dataframe\">\n",
       "  <thead>\n",
       "    <tr style=\"text-align: right;\">\n",
       "      <th></th>\n",
       "      <th>path</th>\n",
       "      <th>file_name</th>\n",
       "      <th>tag</th>\n",
       "    </tr>\n",
       "  </thead>\n",
       "  <tbody>\n",
       "    <tr>\n",
       "      <th>0</th>\n",
       "      <td>Original_dataset/mujahir\\1_mp4-0000_jpg.rf.48b...</td>\n",
       "      <td>1_mp4-0000_jpg.rf.48b8f7c24f61a3544c804b03ccd2...</td>\n",
       "      <td>mujahir</td>\n",
       "    </tr>\n",
       "    <tr>\n",
       "      <th>1</th>\n",
       "      <td>Original_dataset/mujahir\\1_mp4-0002_jpg.rf.632...</td>\n",
       "      <td>1_mp4-0002_jpg.rf.632c93e2907de8173a2ea4133b95...</td>\n",
       "      <td>mujahir</td>\n",
       "    </tr>\n",
       "    <tr>\n",
       "      <th>2</th>\n",
       "      <td>Original_dataset/mujahir\\1_mp4-0003_jpg.rf.a24...</td>\n",
       "      <td>1_mp4-0003_jpg.rf.a24d45f93580825fb513cabc134a...</td>\n",
       "      <td>mujahir</td>\n",
       "    </tr>\n",
       "    <tr>\n",
       "      <th>3</th>\n",
       "      <td>Original_dataset/mujahir\\1_mp4-0005_jpg.rf.24c...</td>\n",
       "      <td>1_mp4-0005_jpg.rf.24cf744b70819cd2822aa5b676bc...</td>\n",
       "      <td>mujahir</td>\n",
       "    </tr>\n",
       "    <tr>\n",
       "      <th>4</th>\n",
       "      <td>Original_dataset/mujahir\\1_mp4-0006_jpg.rf.567...</td>\n",
       "      <td>1_mp4-0006_jpg.rf.567904914fd4958cb491c14e9870...</td>\n",
       "      <td>mujahir</td>\n",
       "    </tr>\n",
       "  </tbody>\n",
       "</table>\n",
       "</div>"
      ],
      "text/plain": [
       "                                                path  \\\n",
       "0  Original_dataset/mujahir\\1_mp4-0000_jpg.rf.48b...   \n",
       "1  Original_dataset/mujahir\\1_mp4-0002_jpg.rf.632...   \n",
       "2  Original_dataset/mujahir\\1_mp4-0003_jpg.rf.a24...   \n",
       "3  Original_dataset/mujahir\\1_mp4-0005_jpg.rf.24c...   \n",
       "4  Original_dataset/mujahir\\1_mp4-0006_jpg.rf.567...   \n",
       "\n",
       "                                           file_name      tag  \n",
       "0  1_mp4-0000_jpg.rf.48b8f7c24f61a3544c804b03ccd2...  mujahir  \n",
       "1  1_mp4-0002_jpg.rf.632c93e2907de8173a2ea4133b95...  mujahir  \n",
       "2  1_mp4-0003_jpg.rf.a24d45f93580825fb513cabc134a...  mujahir  \n",
       "3  1_mp4-0005_jpg.rf.24cf744b70819cd2822aa5b676bc...  mujahir  \n",
       "4  1_mp4-0006_jpg.rf.567904914fd4958cb491c14e9870...  mujahir  "
      ]
     },
     "execution_count": 6,
     "metadata": {},
     "output_type": "execute_result"
    }
   ],
   "source": [
    "#cek sample datanya\n",
    "df.head()"
   ]
  },
  {
   "cell_type": "markdown",
   "id": "1513d9e2",
   "metadata": {},
   "source": [
    "\n",
    "## Train test split"
   ]
  },
  {
   "cell_type": "code",
   "execution_count": 7,
   "id": "aa9a8239-2241-4502-a3a2-7c85c5e1f39d",
   "metadata": {},
   "outputs": [],
   "source": [
    "#load library untuk train test split\n",
    "from sklearn.model_selection import train_test_split"
   ]
  },
  {
   "cell_type": "code",
   "execution_count": 8,
   "id": "541cfc0a-e9c5-4c8e-9a0c-3f0eda724240",
   "metadata": {},
   "outputs": [],
   "source": [
    "#variabel yang digunakan pada pemisahan data ini\n",
    "X= df['path']\n",
    "y= df['tag']"
   ]
  },
  {
   "cell_type": "code",
   "execution_count": 9,
   "id": "dc607ecc-1e7a-4998-b96b-55fd980fef70",
   "metadata": {},
   "outputs": [],
   "source": [
    "# split dataset awal menjadi data train dan test\n",
    "X_train, X_test, y_train, y_test = train_test_split(\n",
    "    X, y, test_size=0.20, random_state=300)"
   ]
  },
  {
   "cell_type": "code",
   "execution_count": 10,
   "id": "92e7ef3b-db12-4a22-a8bd-5388e73c932a",
   "metadata": {},
   "outputs": [],
   "source": [
    "# kemudian data test dibagi menjadi 2 sehingga menjadi data test dan data validation.\n",
    "X_test, X_val, y_test, y_val = train_test_split(\n",
    "    X_test, y_test, test_size=0.5, random_state=100)"
   ]
  },
  {
   "cell_type": "code",
   "execution_count": null,
   "id": "ab2b35d8-e996-48e4-ad32-2c87e67939dc",
   "metadata": {},
   "outputs": [],
   "source": [
    "# Kode ini digunakan untuk mengorganisir data ke dalam DataFrame terpisah yang masing-masing menyimpan data untuk training, testing, dan validation. \n",
    "df_tr = pd.DataFrame({'path':X_train\n",
    "              ,'tag':y_train\n",
    "             ,'set':'train'})\n",
    "\n",
    "df_te = pd.DataFrame({'path':X_test\n",
    "              ,'tag':y_test\n",
    "             ,'set':'test'})\n",
    "\n",
    "df_val = pd.DataFrame({'path':X_val\n",
    "              ,'tag':y_val\n",
    "             ,'set':'validation'})"
   ]
  },
  {
   "cell_type": "code",
   "execution_count": 12,
   "id": "79e1aaab-c37d-4a1e-bea0-73b121f1d18e",
   "metadata": {},
   "outputs": [
    {
     "name": "stdout",
     "output_type": "stream",
     "text": [
      "train size 601\n",
      "val size 75\n",
      "test size 76\n"
     ]
    }
   ],
   "source": [
    "\n",
    "print('train size', len(df_tr))\n",
    "print('val size', len(df_te))\n",
    "print('test size', len(df_val))"
   ]
  },
  {
   "cell_type": "code",
   "execution_count": 13,
   "id": "11710384-7663-49ec-aaba-d1323138d59b",
   "metadata": {},
   "outputs": [
    {
     "name": "stdout",
     "output_type": "stream",
     "text": [
      "===================================================== \n",
      "\n",
      "set         tag      \n",
      "test        mujahir       19\n",
      "            red_devil     22\n",
      "            sepat         34\n",
      "train       mujahir      199\n",
      "            red_devil    172\n",
      "            sepat        230\n",
      "validation  mujahir       19\n",
      "            red_devil     23\n",
      "            sepat         34\n",
      "dtype: int64 \n",
      "\n",
      "===================================================== \n",
      "\n"
     ]
    },
    {
     "data": {
      "text/html": [
       "<div>\n",
       "<style scoped>\n",
       "    .dataframe tbody tr th:only-of-type {\n",
       "        vertical-align: middle;\n",
       "    }\n",
       "\n",
       "    .dataframe tbody tr th {\n",
       "        vertical-align: top;\n",
       "    }\n",
       "\n",
       "    .dataframe thead th {\n",
       "        text-align: right;\n",
       "    }\n",
       "</style>\n",
       "<table border=\"1\" class=\"dataframe\">\n",
       "  <thead>\n",
       "    <tr style=\"text-align: right;\">\n",
       "      <th></th>\n",
       "      <th>path</th>\n",
       "      <th>tag</th>\n",
       "      <th>set</th>\n",
       "    </tr>\n",
       "  </thead>\n",
       "  <tbody>\n",
       "    <tr>\n",
       "      <th>273</th>\n",
       "      <td>Original_dataset/mujahir\\Mujahir-68_jpg.rf.93b...</td>\n",
       "      <td>mujahir</td>\n",
       "      <td>train</td>\n",
       "    </tr>\n",
       "    <tr>\n",
       "      <th>97</th>\n",
       "      <td>Original_dataset/sepat\\Video-Sepat-2_mp4-0037_...</td>\n",
       "      <td>sepat</td>\n",
       "      <td>train</td>\n",
       "    </tr>\n",
       "    <tr>\n",
       "      <th>139</th>\n",
       "      <td>Original_dataset/sepat\\Sepat-9_png.rf.69477aa6...</td>\n",
       "      <td>sepat</td>\n",
       "      <td>train</td>\n",
       "    </tr>\n",
       "  </tbody>\n",
       "</table>\n",
       "</div>"
      ],
      "text/plain": [
       "                                                  path      tag    set\n",
       "273  Original_dataset/mujahir\\Mujahir-68_jpg.rf.93b...  mujahir  train\n",
       "97   Original_dataset/sepat\\Video-Sepat-2_mp4-0037_...    sepat  train\n",
       "139  Original_dataset/sepat\\Sepat-9_png.rf.69477aa6...    sepat  train"
      ]
     },
     "execution_count": 13,
     "metadata": {},
     "output_type": "execute_result"
    }
   ],
   "source": [
    "# Gabungkan dataframes df_tr, df_te, dan df_val\n",
    "df_all = pd.concat([df_tr, df_te, df_val]).reset_index(drop=True)\n",
    "\n",
    "print('===================================================== \\n')\n",
    "print(df_all.groupby(['set', 'tag']).size(), '\\n')\n",
    "\n",
    "print('===================================================== \\n')\n",
    "\n",
    "# Cek sample datanya\n",
    "df_all.sample(3)\n"
   ]
  },
  {
   "cell_type": "markdown",
   "id": "793e179b",
   "metadata": {},
   "source": [
    "\n",
    "## Merapihkan ke folder set masing-masing"
   ]
  },
  {
   "cell_type": "code",
   "execution_count": 14,
   "id": "39892f93-3f05-4122-b481-e4bf4cf9537c",
   "metadata": {},
   "outputs": [],
   "source": [
    "# menghapus folder dataset jika diperlukan\n",
    "#!rm -rf dataset/"
   ]
  },
  {
   "cell_type": "code",
   "execution_count": 26,
   "id": "d49dcc99-b5ca-4fd7-ad23-a0dd99fb7ebe",
   "metadata": {},
   "outputs": [],
   "source": [
    "import shutil\n",
    "from tqdm.notebook import tqdm as tq"
   ]
  },
  {
   "cell_type": "code",
   "execution_count": 36,
   "id": "ae87c236-c836-48c7-93d9-63f392e3159c",
   "metadata": {},
   "outputs": [],
   "source": [
    "datasource_path = \"Original_dataset/\"\n",
    "dataset_path = \"dataset/\""
   ]
  },
  {
   "cell_type": "code",
   "execution_count": null,
   "id": "9a0f8890-e5cb-4586-8f0a-4d664b28d4ee",
   "metadata": {},
   "outputs": [
    {
     "data": {
      "application/vnd.jupyter.widget-view+json": {
       "model_id": "fd90489151364f88ab6e2ca5137f4efc",
       "version_major": 2,
       "version_minor": 0
      },
      "text/plain": [
       "0it [00:00, ?it/s]"
      ]
     },
     "metadata": {},
     "output_type": "display_data"
    }
   ],
   "source": [
    "# Kode ini digunakan untuk memindahkan atau menyalin file gambar \n",
    "\n",
    "for index, row in tq(df_all.iterrows()):\n",
    "    \n",
    "    file_path = row['path']\n",
    "    if not os.path.exists(file_path):\n",
    "        file_path = os.path.join(datasource_path, row['tag'], row['image'])\n",
    "    \n",
    "    if not os.path.exists(file_path):\n",
    "        print(f\"File not found: {file_path}\")\n",
    "        continue  \n",
    "    \n",
    "    # Buat folder tujuan jika belum ada\n",
    "    destination_folder = os.path.join(dataset_path, row['set'], row['tag'])\n",
    "    os.makedirs(destination_folder, exist_ok=True)\n",
    "    \n",
    "\n",
    "    destination_file_name = os.path.basename(file_path) \n",
    "    file_dest = os.path.join(destination_folder, destination_file_name)\n",
    "    \n",
    "    if not os.path.exists(file_dest):\n",
    "        shutil.copy2(file_path, file_dest)"
   ]
  },
  {
   "cell_type": "markdown",
   "id": "2ea8e6f5",
   "metadata": {},
   "source": [
    "\n",
    "## Finish! Dataset siap digunakan"
   ]
  }
 ],
 "metadata": {
  "kernelspec": {
   "display_name": "Python 3 (ipykernel)",
   "language": "python",
   "name": "python3"
  },
  "language_info": {
   "codemirror_mode": {
    "name": "ipython",
    "version": 3
   },
   "file_extension": ".py",
   "mimetype": "text/x-python",
   "name": "python",
   "nbconvert_exporter": "python",
   "pygments_lexer": "ipython3",
   "version": "3.12.4"
  }
 },
 "nbformat": 4,
 "nbformat_minor": 5
}
