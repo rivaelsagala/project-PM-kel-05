{
 "cells": [
  {
   "cell_type": "markdown",
   "metadata": {},
   "source": [
    "## Defiine params and lib"
   ]
  },
  {
   "cell_type": "code",
   "execution_count": 11,
   "metadata": {},
   "outputs": [],
   "source": [
    "import requests\n",
    "from io import BytesIO\n",
    "\n",
    "from PIL import Image\n",
    "import numpy as np\n",
    "import tensorflow as tf"
   ]
  },
  {
   "cell_type": "code",
   "execution_count": 12,
   "metadata": {},
   "outputs": [],
   "source": [
    "# Parameters\n",
    "input_size = (224,224)\n",
    "\n",
    "#define input shape\n",
    "channel = (3,)\n",
    "input_shape = input_size + channel\n",
    "\n",
    "#define labels\n",
    "labels = ['mujahir', 'red_devil', 'sepat']"
   ]
  },
  {
   "cell_type": "code",
   "execution_count": 13,
   "metadata": {},
   "outputs": [],
   "source": [
    "def preprocess(img,input_size):\n",
    "    nimg = img.convert('RGB').resize(input_size, resample= 0)\n",
    "    img_arr = (np.array(nimg))/255\n",
    "    return img_arr\n",
    "\n",
    "def reshape(imgs_arr):\n",
    "    return np.stack(imgs_arr, axis=0)"
   ]
  },
  {
   "cell_type": "code",
   "execution_count": 14,
   "metadata": {},
   "outputs": [],
   "source": [
    "from tensorflow.keras.models import load_model"
   ]
  },
  {
   "cell_type": "code",
   "execution_count": 26,
   "metadata": {},
   "outputs": [
    {
     "name": "stdout",
     "output_type": "stream",
     "text": [
      "Model loaded successfully.\n"
     ]
    }
   ],
   "source": [
    "import requests\n",
    "from io import BytesIO\n",
    "from PIL import Image\n",
    "import numpy as np\n",
    "import tensorflow as tf\n",
    "from tensorflow.keras.models import load_model\n",
    "from tensorflow.keras.layers import Dropout  # Modify if you have a specific implementation for FixedDropout\n",
    "\n",
    "# Define or import the custom swish activation function and FixedDropout layer here if needed\n",
    "def swish(x):\n",
    "    return x * tf.keras.backend.sigmoid(x)\n",
    "\n",
    "class FixedDropout(Dropout):\n",
    "    # Assuming FixedDropout extends Dropout and has custom behavior, define it here\n",
    "    pass\n",
    "\n",
    "def preprocess(img,input_size):\n",
    "    nimg = img.convert('RGB').resize(input_size, resample= 0)\n",
    "    img_arr = (np.array(nimg))/255\n",
    "    return img_arr\n",
    "\n",
    "# Parameters\n",
    "input_size = (224,224)\n",
    "\n",
    "#define input shape\n",
    "channel = (3,)\n",
    "input_shape = input_size + channel\n",
    "\n",
    "#define labels\n",
    "labels = ['mujahir', 'red_devil', 'sepat']\n",
    "\n",
    "def reshape(imgs_arr):\n",
    "    return np.stack(imgs_arr, axis=0)\n",
    "\n",
    "MODEL_PATH = 'model/fish_project/model.keras'\n",
    "try:\n",
    "    model = load_model(MODEL_PATH, compile=False, custom_objects={'swish': swish, 'FixedDropout': FixedDropout})\n",
    "    print(\"Model loaded successfully.\")\n",
    "    # Proceed with predictions here if loading succeeds\n",
    "except Exception as e:\n",
    "    print(\"Error loading the model:\",e)"
   ]
  },
  {
   "cell_type": "code",
   "execution_count": 16,
   "metadata": {},
   "outputs": [],
   "source": [
    "MODEL_PATH = 'model/fish_project/model.keras'\n",
    "# print(MODEL_PATH)\n",
    "# model = load_model(MODEL_PATH,compile=False)"
   ]
  },
  {
   "cell_type": "code",
   "execution_count": 27,
   "metadata": {},
   "outputs": [
    {
     "name": "stdout",
     "output_type": "stream",
     "text": [
      "\u001b[1m1/1\u001b[0m \u001b[32m━━━━━━━━━━━━━━━━━━━━\u001b[0m\u001b[37m\u001b[0m \u001b[1m2s\u001b[0m 2s/step\n",
      "sepat 0.99998736\n"
     ]
    }
   ],
   "source": [
    "# read image\n",
    "im = Image.open('dataset/test/sepat/Sepat-37_png.rf.1713aff88f8f62d6910b073cd5ebd07e.jpg')\n",
    "X = preprocess(im,input_size)\n",
    "X = reshape([X])\n",
    "y = model.predict(X)\n",
    "\n",
    "print( labels[np.argmax(y)], np.max(y) )"
   ]
  },
  {
   "cell_type": "code",
   "execution_count": 28,
   "metadata": {},
   "outputs": [
    {
     "name": "stdout",
     "output_type": "stream",
     "text": [
      "\u001b[1m1/1\u001b[0m \u001b[32m━━━━━━━━━━━━━━━━━━━━\u001b[0m\u001b[37m\u001b[0m \u001b[1m0s\u001b[0m 76ms/step\n",
      "mujahir 0.99999976\n"
     ]
    }
   ],
   "source": [
    "# read image\n",
    "im = Image.open('dataset/test/mujahir/Mujahir-171_jpg.rf.78abf75d3b411e183bd6158ab3f11d06.jpg')\n",
    "X = preprocess(im,input_size)\n",
    "X = reshape([X])\n",
    "y = model.predict(X)\n",
    "\n",
    "print( labels[np.argmax(y)], np.max(y) )\n"
   ]
  },
  {
   "cell_type": "code",
   "execution_count": 29,
   "metadata": {},
   "outputs": [
    {
     "name": "stdout",
     "output_type": "stream",
     "text": [
      "\u001b[1m1/1\u001b[0m \u001b[32m━━━━━━━━━━━━━━━━━━━━\u001b[0m\u001b[37m\u001b[0m \u001b[1m0s\u001b[0m 65ms/step\n",
      "sepat 0.992879\n"
     ]
    }
   ],
   "source": [
    "# read image\n",
    "im = Image.open('new_data/red_devil.jpg')\n",
    "X = preprocess(im,input_size)\n",
    "X = reshape([X])\n",
    "y = model.predict(X)    \n",
    "\n",
    "print( labels[np.argmax(y)], np.max(y) )"
   ]
  },
  {
   "cell_type": "code",
   "execution_count": 30,
   "metadata": {},
   "outputs": [
    {
     "name": "stdout",
     "output_type": "stream",
     "text": [
      "\u001b[1m1/1\u001b[0m \u001b[32m━━━━━━━━━━━━━━━━━━━━\u001b[0m\u001b[37m\u001b[0m \u001b[1m0s\u001b[0m 56ms/step\n",
      "red_devil 0.9999999\n"
     ]
    }
   ],
   "source": [
    "# read image\n",
    "im = Image.open('dataset/test/red_devil/Red-Devil-240_jpg.rf.e1319a11c224dd53ae7d4db6627c6f8a.jpg')\n",
    "X = preprocess(im,input_size)\n",
    "X = reshape([X])\n",
    "y = model.predict(X)\n",
    "\n",
    "print( labels[np.argmax(y)], np.max(y) )\n"
   ]
  },
  {
   "cell_type": "code",
   "execution_count": 31,
   "metadata": {},
   "outputs": [
    {
     "name": "stdout",
     "output_type": "stream",
     "text": [
      "\u001b[1m1/1\u001b[0m \u001b[32m━━━━━━━━━━━━━━━━━━━━\u001b[0m\u001b[37m\u001b[0m \u001b[1m0s\u001b[0m 48ms/step\n",
      "sepat 0.8365381\n"
     ]
    }
   ],
   "source": [
    "# read image\n",
    "im = Image.open('new_data/devil.jpg')\n",
    "X = preprocess(im,input_size)\n",
    "X = reshape([X])\n",
    "y = model.predict(X)    \n",
    "\n",
    "print( labels[np.argmax(y)], np.max(y) )"
   ]
  },
  {
   "cell_type": "code",
   "execution_count": 32,
   "metadata": {},
   "outputs": [
    {
     "name": "stdout",
     "output_type": "stream",
     "text": [
      "\u001b[1m1/1\u001b[0m \u001b[32m━━━━━━━━━━━━━━━━━━━━\u001b[0m\u001b[37m\u001b[0m \u001b[1m0s\u001b[0m 44ms/step\n",
      "mujahir 0.44239008\n"
     ]
    }
   ],
   "source": [
    "# read image\n",
    "im = Image.open('new_data/ikan-mujair1.jpg')\n",
    "X = preprocess(im,input_size)\n",
    "X = reshape([X])\n",
    "y = model.predict(X)    \n",
    "\n",
    "print( labels[np.argmax(y)], np.max(y) )"
   ]
  },
  {
   "cell_type": "code",
   "execution_count": 33,
   "metadata": {},
   "outputs": [
    {
     "name": "stdout",
     "output_type": "stream",
     "text": [
      "\u001b[1m1/1\u001b[0m \u001b[32m━━━━━━━━━━━━━━━━━━━━\u001b[0m\u001b[37m\u001b[0m \u001b[1m0s\u001b[0m 37ms/step\n",
      "red_devil 0.9999808\n"
     ]
    }
   ],
   "source": [
    "# read image\n",
    "im = Image.open('dataset/train/red_devil/Red-Devil-244_jpg.rf.111b18c7ae003de0f6e485fb57e8496c.jpg')\n",
    "X = preprocess(im,input_size)\n",
    "X = reshape([X])\n",
    "y = model.predict(X)\n",
    "\n",
    "print( labels[np.argmax(y)], np.max(y) )\n"
   ]
  },
  {
   "cell_type": "code",
   "execution_count": 34,
   "metadata": {},
   "outputs": [
    {
     "name": "stdout",
     "output_type": "stream",
     "text": [
      "\u001b[1m1/1\u001b[0m \u001b[32m━━━━━━━━━━━━━━━━━━━━\u001b[0m\u001b[37m\u001b[0m \u001b[1m0s\u001b[0m 46ms/step\n",
      "red_devil 0.99998784\n"
     ]
    }
   ],
   "source": [
    "# read image\n",
    "im = Image.open('dataset/train/red_devil/Red-Devil-59_png.rf.b0a43e7e7204a6cf3dfa86f50d755d42.jpg')\n",
    "X = preprocess(im,input_size)\n",
    "X = reshape([X])\n",
    "y = model.predict(X)\n",
    "\n",
    "print( labels[np.argmax(y)], np.max(y) )\n"
   ]
  },
  {
   "cell_type": "code",
   "execution_count": null,
   "metadata": {},
   "outputs": [],
   "source": []
  }
 ],
 "metadata": {
  "kernelspec": {
   "display_name": "Python 3",
   "language": "python",
   "name": "python3"
  },
  "language_info": {
   "codemirror_mode": {
    "name": "ipython",
    "version": 3
   },
   "file_extension": ".py",
   "mimetype": "text/x-python",
   "name": "python",
   "nbconvert_exporter": "python",
   "pygments_lexer": "ipython3",
   "version": "3.11.5"
  }
 },
 "nbformat": 4,
 "nbformat_minor": 2
}
