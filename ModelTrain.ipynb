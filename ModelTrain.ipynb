{
  "cells": [
    {
      "cell_type": "markdown",
      "metadata": {
        "id": "view-in-github",
        "colab_type": "text"
      },
      "source": [
        "<a href=\"https://colab.research.google.com/github/rivaelsagala/project-PM-kel-05/blob/main/ModelTrain.ipynb\" target=\"_parent\"><img src=\"https://colab.research.google.com/assets/colab-badge.svg\" alt=\"Open In Colab\"/></a>"
      ]
    },
    {
      "cell_type": "code",
      "execution_count": 78,
      "id": "VV4LWVeq5XUB",
      "metadata": {
        "colab": {
          "base_uri": "https://localhost:8080/"
        },
        "id": "VV4LWVeq5XUB",
        "outputId": "a33842b5-424f-45f9-9885-5b5c195b9e96"
      },
      "outputs": [
        {
          "output_type": "stream",
          "name": "stdout",
          "text": [
            "fatal: destination path 'project-PM-kel-05' already exists and is not an empty directory.\n"
          ]
        }
      ],
      "source": [
        "!git clone https://github.com/rivaelsagala/project-PM-kel-05.git\n"
      ]
    },
    {
      "cell_type": "code",
      "source": [
        "# from google.colab import drive\n",
        "# drive.mount('/content/drive')"
      ],
      "metadata": {
        "id": "2655uuxdDo1g"
      },
      "id": "2655uuxdDo1g",
      "execution_count": null,
      "outputs": []
    },
    {
      "cell_type": "code",
      "source": [
        "from google.colab import drive\n",
        "drive.mount('/content/drive')"
      ],
      "metadata": {
        "id": "KiZSF67SXEjo",
        "outputId": "6f610281-223c-4aa3-f7fd-39b85d533d4f",
        "colab": {
          "base_uri": "https://localhost:8080/",
          "height": 304
        }
      },
      "id": "KiZSF67SXEjo",
      "execution_count": 77,
      "outputs": [
        {
          "output_type": "error",
          "ename": "KeyboardInterrupt",
          "evalue": "",
          "traceback": [
            "\u001b[0;31m---------------------------------------------------------------------------\u001b[0m",
            "\u001b[0;31mKeyboardInterrupt\u001b[0m                         Traceback (most recent call last)",
            "\u001b[0;32m<ipython-input-77-d5df0069828e>\u001b[0m in \u001b[0;36m<cell line: 2>\u001b[0;34m()\u001b[0m\n\u001b[1;32m      1\u001b[0m \u001b[0;32mfrom\u001b[0m \u001b[0mgoogle\u001b[0m\u001b[0;34m.\u001b[0m\u001b[0mcolab\u001b[0m \u001b[0;32mimport\u001b[0m \u001b[0mdrive\u001b[0m\u001b[0;34m\u001b[0m\u001b[0;34m\u001b[0m\u001b[0m\n\u001b[0;32m----> 2\u001b[0;31m \u001b[0mdrive\u001b[0m\u001b[0;34m.\u001b[0m\u001b[0mmount\u001b[0m\u001b[0;34m(\u001b[0m\u001b[0;34m'/content/drive'\u001b[0m\u001b[0;34m)\u001b[0m\u001b[0;34m\u001b[0m\u001b[0;34m\u001b[0m\u001b[0m\n\u001b[0m",
            "\u001b[0;32m/usr/local/lib/python3.10/dist-packages/google/colab/drive.py\u001b[0m in \u001b[0;36mmount\u001b[0;34m(mountpoint, force_remount, timeout_ms, readonly)\u001b[0m\n\u001b[1;32m     98\u001b[0m \u001b[0;32mdef\u001b[0m \u001b[0mmount\u001b[0m\u001b[0;34m(\u001b[0m\u001b[0mmountpoint\u001b[0m\u001b[0;34m,\u001b[0m \u001b[0mforce_remount\u001b[0m\u001b[0;34m=\u001b[0m\u001b[0;32mFalse\u001b[0m\u001b[0;34m,\u001b[0m \u001b[0mtimeout_ms\u001b[0m\u001b[0;34m=\u001b[0m\u001b[0;36m120000\u001b[0m\u001b[0;34m,\u001b[0m \u001b[0mreadonly\u001b[0m\u001b[0;34m=\u001b[0m\u001b[0;32mFalse\u001b[0m\u001b[0;34m)\u001b[0m\u001b[0;34m:\u001b[0m\u001b[0;34m\u001b[0m\u001b[0;34m\u001b[0m\u001b[0m\n\u001b[1;32m     99\u001b[0m   \u001b[0;34m\"\"\"Mount your Google Drive at the specified mountpoint path.\"\"\"\u001b[0m\u001b[0;34m\u001b[0m\u001b[0;34m\u001b[0m\u001b[0m\n\u001b[0;32m--> 100\u001b[0;31m   return _mount(\n\u001b[0m\u001b[1;32m    101\u001b[0m       \u001b[0mmountpoint\u001b[0m\u001b[0;34m,\u001b[0m\u001b[0;34m\u001b[0m\u001b[0;34m\u001b[0m\u001b[0m\n\u001b[1;32m    102\u001b[0m       \u001b[0mforce_remount\u001b[0m\u001b[0;34m=\u001b[0m\u001b[0mforce_remount\u001b[0m\u001b[0;34m,\u001b[0m\u001b[0;34m\u001b[0m\u001b[0;34m\u001b[0m\u001b[0m\n",
            "\u001b[0;32m/usr/local/lib/python3.10/dist-packages/google/colab/drive.py\u001b[0m in \u001b[0;36m_mount\u001b[0;34m(mountpoint, force_remount, timeout_ms, ephemeral, readonly)\u001b[0m\n\u001b[1;32m    135\u001b[0m   )\n\u001b[1;32m    136\u001b[0m   \u001b[0;32mif\u001b[0m \u001b[0mephemeral\u001b[0m\u001b[0;34m:\u001b[0m\u001b[0;34m\u001b[0m\u001b[0;34m\u001b[0m\u001b[0m\n\u001b[0;32m--> 137\u001b[0;31m     _message.blocking_request(\n\u001b[0m\u001b[1;32m    138\u001b[0m         \u001b[0;34m'request_auth'\u001b[0m\u001b[0;34m,\u001b[0m\u001b[0;34m\u001b[0m\u001b[0;34m\u001b[0m\u001b[0m\n\u001b[1;32m    139\u001b[0m         \u001b[0mrequest\u001b[0m\u001b[0;34m=\u001b[0m\u001b[0;34m{\u001b[0m\u001b[0;34m'authType'\u001b[0m\u001b[0;34m:\u001b[0m \u001b[0;34m'dfs_ephemeral'\u001b[0m\u001b[0;34m}\u001b[0m\u001b[0;34m,\u001b[0m\u001b[0;34m\u001b[0m\u001b[0;34m\u001b[0m\u001b[0m\n",
            "\u001b[0;32m/usr/local/lib/python3.10/dist-packages/google/colab/_message.py\u001b[0m in \u001b[0;36mblocking_request\u001b[0;34m(request_type, request, timeout_sec, parent)\u001b[0m\n\u001b[1;32m    174\u001b[0m       \u001b[0mrequest_type\u001b[0m\u001b[0;34m,\u001b[0m \u001b[0mrequest\u001b[0m\u001b[0;34m,\u001b[0m \u001b[0mparent\u001b[0m\u001b[0;34m=\u001b[0m\u001b[0mparent\u001b[0m\u001b[0;34m,\u001b[0m \u001b[0mexpect_reply\u001b[0m\u001b[0;34m=\u001b[0m\u001b[0;32mTrue\u001b[0m\u001b[0;34m\u001b[0m\u001b[0;34m\u001b[0m\u001b[0m\n\u001b[1;32m    175\u001b[0m   )\n\u001b[0;32m--> 176\u001b[0;31m   \u001b[0;32mreturn\u001b[0m \u001b[0mread_reply_from_input\u001b[0m\u001b[0;34m(\u001b[0m\u001b[0mrequest_id\u001b[0m\u001b[0;34m,\u001b[0m \u001b[0mtimeout_sec\u001b[0m\u001b[0;34m)\u001b[0m\u001b[0;34m\u001b[0m\u001b[0;34m\u001b[0m\u001b[0m\n\u001b[0m",
            "\u001b[0;32m/usr/local/lib/python3.10/dist-packages/google/colab/_message.py\u001b[0m in \u001b[0;36mread_reply_from_input\u001b[0;34m(message_id, timeout_sec)\u001b[0m\n\u001b[1;32m     94\u001b[0m     \u001b[0mreply\u001b[0m \u001b[0;34m=\u001b[0m \u001b[0m_read_next_input_message\u001b[0m\u001b[0;34m(\u001b[0m\u001b[0;34m)\u001b[0m\u001b[0;34m\u001b[0m\u001b[0;34m\u001b[0m\u001b[0m\n\u001b[1;32m     95\u001b[0m     \u001b[0;32mif\u001b[0m \u001b[0mreply\u001b[0m \u001b[0;34m==\u001b[0m \u001b[0m_NOT_READY\u001b[0m \u001b[0;32mor\u001b[0m \u001b[0;32mnot\u001b[0m \u001b[0misinstance\u001b[0m\u001b[0;34m(\u001b[0m\u001b[0mreply\u001b[0m\u001b[0;34m,\u001b[0m \u001b[0mdict\u001b[0m\u001b[0;34m)\u001b[0m\u001b[0;34m:\u001b[0m\u001b[0;34m\u001b[0m\u001b[0;34m\u001b[0m\u001b[0m\n\u001b[0;32m---> 96\u001b[0;31m       \u001b[0mtime\u001b[0m\u001b[0;34m.\u001b[0m\u001b[0msleep\u001b[0m\u001b[0;34m(\u001b[0m\u001b[0;36m0.025\u001b[0m\u001b[0;34m)\u001b[0m\u001b[0;34m\u001b[0m\u001b[0;34m\u001b[0m\u001b[0m\n\u001b[0m\u001b[1;32m     97\u001b[0m       \u001b[0;32mcontinue\u001b[0m\u001b[0;34m\u001b[0m\u001b[0;34m\u001b[0m\u001b[0m\n\u001b[1;32m     98\u001b[0m     if (\n",
            "\u001b[0;31mKeyboardInterrupt\u001b[0m: "
          ]
        }
      ]
    },
    {
      "cell_type": "code",
      "execution_count": 79,
      "id": "VtQotcv75ncZ",
      "metadata": {
        "colab": {
          "base_uri": "https://localhost:8080/"
        },
        "id": "VtQotcv75ncZ",
        "outputId": "dc5732f4-c4be-42d1-ed02-127372b1ef75"
      },
      "outputs": [
        {
          "output_type": "stream",
          "name": "stdout",
          "text": [
            "['red_devil', 'sepat', 'mujahir']\n"
          ]
        }
      ],
      "source": [
        "import os\n",
        "print(os.listdir(\"project-PM-kel-05/dataset/train/\"))\n"
      ]
    },
    {
      "cell_type": "markdown",
      "id": "e143e7b9-e09f-49fa-ba85-89d40c819994",
      "metadata": {
        "id": "e143e7b9-e09f-49fa-ba85-89d40c819994"
      },
      "source": [
        "## Membuat Classifier nya\n"
      ]
    },
    {
      "cell_type": "code",
      "execution_count": 4,
      "id": "3f9dc35c-cba7-46ca-9fbd-055047ed2694",
      "metadata": {
        "id": "3f9dc35c-cba7-46ca-9fbd-055047ed2694"
      },
      "outputs": [],
      "source": [
        "import tensorflow as tf"
      ]
    },
    {
      "cell_type": "code",
      "execution_count": 5,
      "id": "cd36f0b9-edad-45a4-94ea-1c3e26f5d03b",
      "metadata": {
        "id": "cd36f0b9-edad-45a4-94ea-1c3e26f5d03b"
      },
      "outputs": [],
      "source": [
        "# Parameter input untuk network\n",
        "dim = (150, 150)           # Sesuaikan dengan ukuran gambar dari dataset Roboflow\n",
        "channel = (3, )            # RGB channel\n",
        "input_shape = dim + channel\n",
        "# Batch size\n",
        "batch_size = 8             # Gunakan batch size yang lebih kecil jika GPU terbatas\n",
        "# Epoch\n",
        "epoch = 10                 # Tetap 10 untuk eksperimen awal\n"
      ]
    },
    {
      "cell_type": "markdown",
      "id": "b2b42dc5-738e-4997-8a0c-ff0c9c009e5f",
      "metadata": {
        "id": "b2b42dc5-738e-4997-8a0c-ff0c9c009e5f"
      },
      "source": [
        "## Membuat dataset generator"
      ]
    },
    {
      "cell_type": "code",
      "execution_count": 6,
      "id": "df8a110a-a300-4994-8cf7-268730b7805a",
      "metadata": {
        "id": "df8a110a-a300-4994-8cf7-268730b7805a"
      },
      "outputs": [],
      "source": [
        "from tensorflow.keras.preprocessing.image import ImageDataGenerator"
      ]
    },
    {
      "cell_type": "markdown",
      "id": "4cc11977-1281-44ed-b3dd-2e33e209386a",
      "metadata": {
        "id": "4cc11977-1281-44ed-b3dd-2e33e209386a"
      },
      "source": [
        "## Mendefinisikan Data |Generatornya"
      ]
    },
    {
      "cell_type": "code",
      "execution_count": 9,
      "id": "1bfea643-18a7-4e54-bb3d-70930c46bc31",
      "metadata": {
        "id": "1bfea643-18a7-4e54-bb3d-70930c46bc31"
      },
      "outputs": [],
      "source": [
        "train_datagen = ImageDataGenerator(rescale=1. / 255,\n",
        "                                   shear_range=0.2,\n",
        "                                   zoom_range=0.2,\n",
        "                                   horizontal_flip=True)\n",
        "\n",
        "val_datagen = ImageDataGenerator(rescale=1. / 255,\n",
        "                                 shear_range=0.2,\n",
        "                                 zoom_range=0.2,\n",
        "                                 horizontal_flip=True)\n",
        "\n",
        "test_datagen = ImageDataGenerator(rescale=1. / 255,\n",
        "                                  shear_range=0.2,\n",
        "                                  zoom_range=0.2,\n",
        "                                  horizontal_flip=True)\n",
        "\n",
        "\n",
        "\n"
      ]
    },
    {
      "cell_type": "markdown",
      "id": "28d1fa83-66cd-4f87-b58a-578a641ba32b",
      "metadata": {
        "id": "28d1fa83-66cd-4f87-b58a-578a641ba32b"
      },
      "source": [
        "## Mendefinisikan asal folder sumber file berasal"
      ]
    },
    {
      "cell_type": "code",
      "execution_count": 14,
      "id": "3b681a4f-5e2d-442d-b2f1-7a6af4fc2a71",
      "metadata": {
        "colab": {
          "base_uri": "https://localhost:8080/"
        },
        "id": "3b681a4f-5e2d-442d-b2f1-7a6af4fc2a71",
        "outputId": "25990bf9-9475-46d8-99be-13b5e21c842d"
      },
      "outputs": [
        {
          "output_type": "stream",
          "name": "stdout",
          "text": [
            "Found 601 images belonging to 3 classes.\n",
            "Found 76 images belonging to 3 classes.\n",
            "Found 75 images belonging to 3 classes.\n"
          ]
        }
      ],
      "source": [
        "# Load data\n",
        "train_generator = train_datagen.flow_from_directory('project-PM-kel-05/dataset/train/',\n",
        "                                                    target_size=dim,\n",
        "                                                    batch_size=batch_size,\n",
        "                                                    class_mode='categorical',\n",
        "                                                    subset='training',\n",
        "                                                    shuffle=True)\n",
        "\n",
        "val_generator = val_datagen.flow_from_directory('project-PM-kel-05/dataset/validation/',\n",
        "                                                target_size=dim,\n",
        "                                                batch_size=batch_size,\n",
        "                                                class_mode='categorical',\n",
        "                                                shuffle=True)\n",
        "\n",
        "test_generator = test_datagen.flow_from_directory('project-PM-kel-05/dataset/test/',\n",
        "                                                  target_size=dim,\n",
        "                                                  batch_size=batch_size,\n",
        "                                                  class_mode='categorical',\n",
        "                                                  shuffle=True)\n",
        "\n",
        "\n"
      ]
    },
    {
      "cell_type": "code",
      "execution_count": null,
      "id": "307858c6-694e-4b61-8fa3-abc27e6ccb4d",
      "metadata": {
        "colab": {
          "base_uri": "https://localhost:8080/"
        },
        "id": "307858c6-694e-4b61-8fa3-abc27e6ccb4d",
        "outputId": "b9c444de-677a-4e4a-fdf8-fae5124353da"
      },
      "outputs": [
        {
          "name": "stdout",
          "output_type": "stream",
          "text": [
            "{'mujahir': 0, 'red_devil': 1, 'sepat': 2}\n"
          ]
        }
      ],
      "source": [
        "print(labels)"
      ]
    },
    {
      "cell_type": "code",
      "source": [
        "import tensorflow as tf\n",
        "\n",
        "model = tf.keras.models.Sequential([\n",
        "    # Note the input shape is the desired size of the image 150x150 with 3 bytes color\n",
        "    tf.keras.layers.Conv2D(64, (3,3), activation='relu', input_shape=(150, 150, 3)),\n",
        "    tf.keras.layers.MaxPooling2D(2,2),\n",
        "    tf.keras.layers.Conv2D(32, (3,3), activation='relu'),\n",
        "    tf.keras.layers.MaxPooling2D(2,2),\n",
        "    tf.keras.layers.Dropout(0.4),\n",
        "    tf.keras.layers.Conv2D(64, (3,3), activation='relu'),\n",
        "    tf.keras.layers.MaxPooling2D(2,2),\n",
        "    tf.keras.layers.Dropout(0.4),\n",
        "    # Flatten the results to feed into a DNN\n",
        "    tf.keras.layers.Flatten(),\n",
        "    # 512 neuron hidden layer\n",
        "    tf.keras.layers.Dense(512, activation='relu'),\n",
        "    tf.keras.layers.Dense(256, activation='relu'),\n",
        "    # Change the number of units in the output layer to 3 to match the number of classes\n",
        "    tf.keras.layers.Dense(3, activation='softmax') # Changed from 6 to 3\n",
        "])"
      ],
      "metadata": {
        "id": "X2NEEzJEGIWj",
        "outputId": "72ed8a7f-2abe-4110-9abc-376bb5651990",
        "colab": {
          "base_uri": "https://localhost:8080/"
        }
      },
      "id": "X2NEEzJEGIWj",
      "execution_count": 21,
      "outputs": [
        {
          "output_type": "stream",
          "name": "stderr",
          "text": [
            "/usr/local/lib/python3.10/dist-packages/keras/src/layers/convolutional/base_conv.py:107: UserWarning: Do not pass an `input_shape`/`input_dim` argument to a layer. When using Sequential models, prefer using an `Input(shape)` object as the first layer in the model instead.\n",
            "  super().__init__(activity_regularizer=activity_regularizer, **kwargs)\n"
          ]
        }
      ]
    },
    {
      "cell_type": "code",
      "source": [
        "model.compile(optimizer=tf.optimizers.Adam(),\n",
        "loss='categorical_crossentropy',\n",
        "metrics=['accuracy'])"
      ],
      "metadata": {
        "id": "vneG271LGQ6A"
      },
      "id": "vneG271LGQ6A",
      "execution_count": 22,
      "outputs": []
    },
    {
      "cell_type": "code",
      "source": [
        "history = model.fit(train_generator,\n",
        "               validation_data=val_generator, # Change validation_generator to val_generator\n",
        "               epochs=10,\n",
        "               verbose=2)"
      ],
      "metadata": {
        "id": "87pwfIukGZRK",
        "outputId": "b9396683-517d-4bf6-842e-3b1b7b59b1ad",
        "colab": {
          "base_uri": "https://localhost:8080/"
        }
      },
      "id": "87pwfIukGZRK",
      "execution_count": 23,
      "outputs": [
        {
          "output_type": "stream",
          "name": "stdout",
          "text": [
            "Epoch 1/10\n"
          ]
        },
        {
          "output_type": "stream",
          "name": "stderr",
          "text": [
            "/usr/local/lib/python3.10/dist-packages/keras/src/trainers/data_adapters/py_dataset_adapter.py:122: UserWarning: Your `PyDataset` class should call `super().__init__(**kwargs)` in its constructor. `**kwargs` can include `workers`, `use_multiprocessing`, `max_queue_size`. Do not pass these arguments to `fit()`, as they will be ignored.\n",
            "  self._warn_if_super_not_called()\n"
          ]
        },
        {
          "output_type": "stream",
          "name": "stdout",
          "text": [
            "76/76 - 51s - 676ms/step - accuracy: 0.3710 - loss: 1.1789 - val_accuracy: 0.4474 - val_loss: 1.0802\n",
            "Epoch 2/10\n",
            "76/76 - 44s - 585ms/step - accuracy: 0.6972 - loss: 0.7313 - val_accuracy: 0.8553 - val_loss: 0.5912\n",
            "Epoch 3/10\n",
            "76/76 - 43s - 564ms/step - accuracy: 0.8253 - loss: 0.5264 - val_accuracy: 0.8947 - val_loss: 0.3542\n",
            "Epoch 4/10\n",
            "76/76 - 43s - 566ms/step - accuracy: 0.8852 - loss: 0.2952 - val_accuracy: 0.8816 - val_loss: 0.3394\n",
            "Epoch 5/10\n",
            "76/76 - 83s - 1s/step - accuracy: 0.8453 - loss: 0.4235 - val_accuracy: 0.9079 - val_loss: 0.3856\n",
            "Epoch 6/10\n",
            "76/76 - 84s - 1s/step - accuracy: 0.9135 - loss: 0.2557 - val_accuracy: 0.8553 - val_loss: 0.5000\n",
            "Epoch 7/10\n",
            "76/76 - 45s - 592ms/step - accuracy: 0.9301 - loss: 0.2235 - val_accuracy: 0.9474 - val_loss: 0.1565\n",
            "Epoch 8/10\n",
            "76/76 - 80s - 1s/step - accuracy: 0.9584 - loss: 0.1451 - val_accuracy: 0.8553 - val_loss: 0.2769\n",
            "Epoch 9/10\n",
            "76/76 - 42s - 556ms/step - accuracy: 0.9617 - loss: 0.1369 - val_accuracy: 0.9605 - val_loss: 0.1529\n",
            "Epoch 10/10\n",
            "76/76 - 83s - 1s/step - accuracy: 0.9684 - loss: 0.1162 - val_accuracy: 0.8947 - val_loss: 0.2396\n"
          ]
        }
      ]
    },
    {
      "cell_type": "code",
      "source": [
        "import matplotlib.pyplot as plt\n",
        "plt.plot(history.history['accuracy'])\n",
        "plt.plot(history.history['val_accuracy'])\n",
        "plt.title('Akurasi Model')\n",
        "plt.ylabel('accuracy')\n",
        "plt.xlabel('epoch')\n",
        "plt.legend(['train', 'test'], loc='upper left')\n",
        "plt.show()"
      ],
      "metadata": {
        "id": "pybyZYdkKNqu",
        "outputId": "4eaf5c38-c15c-47a0-954d-26b24d3b746b",
        "colab": {
          "base_uri": "https://localhost:8080/",
          "height": 472
        }
      },
      "id": "pybyZYdkKNqu",
      "execution_count": 24,
      "outputs": [
        {
          "output_type": "display_data",
          "data": {
            "text/plain": [
              "<Figure size 640x480 with 1 Axes>"
            ],
            "image/png": "[encoded data removed]"
          },
          "metadata": {}
        }
      ]
    },
    {
      "cell_type": "markdown",
      "id": "48e28bce-c3ea-4eb4-a8a7-78ee0eea3b0f",
      "metadata": {
        "id": "48e28bce-c3ea-4eb4-a8a7-78ee0eea3b0f"
      },
      "source": [
        "## Membuat tf.data untuk kompabilitas yang lebih baik untuk tensorflow 2.1 (tf.keras)"
      ]
    },
    {
      "cell_type": "code",
      "execution_count": null,
      "id": "7a938799-4c58-4981-b7f4-4a6708dfb939",
      "metadata": {
        "id": "7a938799-4c58-4981-b7f4-4a6708dfb939"
      },
      "outputs": [],
      "source": [
        "def tf_data_generator(generator, input_shape):\n",
        "    num_class = generator.num_classes\n",
        "    tf_generator = tf.data.Dataset.from_generator(\n",
        "        lambda: generator,\n",
        "        output_signature=(\n",
        "            tf.TensorSpec(shape=(None, input_shape[0], input_shape[1], input_shape[2]), dtype=tf.float32),\n",
        "            tf.TensorSpec(shape=(None, num_class), dtype=tf.float32)\n",
        "        )\n",
        "    )\n",
        "    return tf_generator"
      ]
    },
    {
      "cell_type": "code",
      "execution_count": null,
      "id": "b7b883cd-0698-4a5e-a3e1-8d62d085d991",
      "metadata": {
        "id": "b7b883cd-0698-4a5e-a3e1-8d62d085d991"
      },
      "outputs": [],
      "source": [
        "train_data = tf_data_generator(train_generator, input_shape)\n",
        "test_data = tf_data_generator(test_generator, input_shape)\n",
        "val_data = tf_data_generator(val_generator, input_shape)"
      ]
    },
    {
      "cell_type": "code",
      "source": [
        "plt.plot(history.history['loss'])\n",
        "plt.plot(history.history['val_loss'])\n",
        "plt.title('Loss Model')\n",
        "plt.ylabel('loss')\n",
        "plt.xlabel('epoch')\n",
        "plt.legend(['train', 'test'], loc='upper left')\n",
        "plt.show()"
      ],
      "metadata": {
        "id": "rw5MVAV6KbB6",
        "outputId": "282fd49c-d93c-4cfa-ed45-deb22489abfc",
        "colab": {
          "base_uri": "https://localhost:8080/",
          "height": 472
        }
      },
      "id": "rw5MVAV6KbB6",
      "execution_count": 25,
      "outputs": [
        {
          "output_type": "display_data",
          "data": {
            "text/plain": [
              "<Figure size 640x480 with 1 Axes>"
            ],
            "image/png": "[encoded data removed]"
          },
          "metadata": {}
        }
      ]
    },
    {
      "cell_type": "markdown",
      "id": "mUk_jJKRA2WI",
      "metadata": {
        "id": "mUk_jJKRA2WI"
      },
      "source": [
        "## Verifikasi Dataset"
      ]
    },
    {
      "cell_type": "code",
      "execution_count": null,
      "id": "BNyjw0_6AzKh",
      "metadata": {
        "colab": {
          "base_uri": "https://localhost:8080/"
        },
        "id": "BNyjw0_6AzKh",
        "outputId": "af6958aa-c725-4d80-c8df-7b36c95dfa4c"
      },
      "outputs": [
        {
          "name": "stdout",
          "output_type": "stream",
          "text": [
            "Data shape: (8, 224, 224, 3)\n",
            "Labels shape: (8, 3)\n"
          ]
        }
      ],
      "source": [
        "for data, labels in train_data.take(1):  # Ambil satu batch\n",
        "    print(\"Data shape:\", data.shape)\n",
        "    print(\"Labels shape:\", labels.shape)"
      ]
    },
    {
      "cell_type": "markdown",
      "id": "62b24f74-de22-42e2-9aa6-076855217df8",
      "metadata": {
        "id": "62b24f74-de22-42e2-9aa6-076855217df8"
      },
      "source": [
        "## Membuat Struktur CNN"
      ]
    },
    {
      "cell_type": "markdown",
      "id": "6ba2d8df-e988-4ac6-8f7c-23bd8fb458f3",
      "metadata": {
        "id": "6ba2d8df-e988-4ac6-8f7c-23bd8fb458f3"
      },
      "source": [
        "## Manualy define network"
      ]
    },
    {
      "cell_type": "code",
      "execution_count": null,
      "id": "90f7a823-20fe-459f-a7af-87e36da161aa",
      "metadata": {
        "id": "90f7a823-20fe-459f-a7af-87e36da161aa"
      },
      "outputs": [],
      "source": []
    },
    {
      "cell_type": "code",
      "execution_count": null,
      "id": "cf6962d8-3f41-4fe5-ab72-e5a9f8eb5fcb",
      "metadata": {
        "colab": {
          "base_uri": "https://localhost:8080/"
        },
        "id": "cf6962d8-3f41-4fe5-ab72-e5a9f8eb5fcb",
        "outputId": "0fb23dfd-f990-4b2e-cb2a-8ba0912c09e3"
      },
      "outputs": [
        {
          "name": "stdout",
          "output_type": "stream",
          "text": [
            "Compiling Model.......\n"
          ]
        }
      ],
      "source": [
        "from tensorflow.keras.layers import Input, Conv2D, Activation, MaxPooling2D, Dropout, Flatten, Dense\n",
        "from tensorflow.keras.models import Sequential\n",
        "from tensorflow.keras.regularizers import l2\n",
        "from tensorflow.keras.callbacks import EarlyStopping\n",
        "from tensorflow.keras.preprocessing.image import ImageDataGenerator\n",
        "\n",
        "# Augmentasi Data\n",
        "datagen = ImageDataGenerator(\n",
        "    rotation_range=20,\n",
        "    width_shift_range=0.2,\n",
        "    height_shift_range=0.2,\n",
        "    shear_range=0.2,\n",
        "    zoom_range=0.2,\n",
        "    horizontal_flip=True,\n",
        "    fill_mode='nearest'\n",
        ")\n",
        "\n",
        "# Definisikan model\n",
        "model = Sequential()\n",
        "model.add(Input(shape=input_shape))  # Layer input\n",
        "model.add(Conv2D(64, (3, 3), padding='same', kernel_regularizer=l2(0.01)))\n",
        "model.add(Activation('relu'))\n",
        "model.add(Conv2D(32, (3, 3), kernel_regularizer=l2(0.01)))\n",
        "model.add(Activation('relu'))\n",
        "model.add(MaxPooling2D(pool_size=(2, 2)))\n",
        "model.add(Dropout(0.25))\n",
        "\n",
        "model.add(Conv2D(64, (3, 3), padding='same', kernel_regularizer=l2(0.01)))\n",
        "model.add(Activation('relu'))\n",
        "model.add(Conv2D(64, (3, 3), kernel_regularizer=l2(0.01)))\n",
        "model.add(Activation('relu'))\n",
        "model.add(MaxPooling2D(pool_size=(2, 2)))\n",
        "model.add(Dropout(0.25))\n",
        "\n",
        "model.add(Flatten())\n",
        "model.add(Dense(256, kernel_regularizer=l2(0.01)))\n",
        "model.add(Activation('relu'))\n",
        "model.add(Dropout(0.5))\n",
        "model.add(Dense(num_class))\n",
        "model.add(Activation('softmax'))\n",
        "\n",
        "# Compile the model\n",
        "print('Compiling Model.......')\n",
        "model.compile(optimizer='adam',\n",
        "              loss='categorical_crossentropy',\n",
        "              metrics=['accuracy'])\n",
        "\n",
        "# Implementasi Early Stopping\n",
        "early_stopping = EarlyStopping(monitor='val_loss', patience=5, restore_best_weights=True)\n",
        "\n"
      ]
    },
    {
      "cell_type": "code",
      "execution_count": null,
      "id": "901ef62f-3f2b-4995-8387-6def37525d29",
      "metadata": {
        "colab": {
          "base_uri": "https://localhost:8080/",
          "height": 705
        },
        "id": "901ef62f-3f2b-4995-8387-6def37525d29",
        "outputId": "a0afd0a2-dfbd-4f6e-8145-27f97a13d97c"
      },
      "outputs": [
        {
          "data": {
            "text/html": [
              "<pre style=\"white-space:pre;overflow-x:auto;line-height:normal;font-family:Menlo,'DejaVu Sans Mono',consolas,'Courier New',monospace\"><span style=\"font-weight: bold\">Model: \"sequential\"</span>\n",
              "</pre>\n"
            ],
            "text/plain": [
              "\u001b[1mModel: \"sequential\"\u001b[0m\n"
            ]
          },
          "metadata": {},
          "output_type": "display_data"
        },
        {
          "data": {
            "text/html": [
              "<pre style=\"white-space:pre;overflow-x:auto;line-height:normal;font-family:Menlo,'DejaVu Sans Mono',consolas,'Courier New',monospace\">┏━━━━━━━━━━━━━━━━━━━━━━━━━━━━━━━━━┳━━━━━━━━━━━━━━━━━━━━━━━━┳━━━━━━━━━━━━━━━┓\n",
              "┃<span style=\"font-weight: bold\"> Layer (type)                    </span>┃<span style=\"font-weight: bold\"> Output Shape           </span>┃<span style=\"font-weight: bold\">       Param # </span>┃\n",
              "┡━━━━━━━━━━━━━━━━━━━━━━━━━━━━━━━━━╇━━━━━━━━━━━━━━━━━━━━━━━━╇━━━━━━━━━━━━━━━┩\n",
              "│ conv2d (<span style=\"color: #0087ff; text-decoration-color: #0087ff\">Conv2D</span>)                 │ (<span style=\"color: #00d7ff; text-decoration-color: #00d7ff\">None</span>, <span style=\"color: #00af00; text-decoration-color: #00af00\">224</span>, <span style=\"color: #00af00; text-decoration-color: #00af00\">224</span>, <span style=\"color: #00af00; text-decoration-color: #00af00\">128</span>)  │         <span style=\"color: #00af00; text-decoration-color: #00af00\">3,584</span> │\n",
              "├─────────────────────────────────┼────────────────────────┼───────────────┤\n",
              "│ activation (<span style=\"color: #0087ff; text-decoration-color: #0087ff\">Activation</span>)         │ (<span style=\"color: #00d7ff; text-decoration-color: #00d7ff\">None</span>, <span style=\"color: #00af00; text-decoration-color: #00af00\">224</span>, <span style=\"color: #00af00; text-decoration-color: #00af00\">224</span>, <span style=\"color: #00af00; text-decoration-color: #00af00\">128</span>)  │             <span style=\"color: #00af00; text-decoration-color: #00af00\">0</span> │\n",
              "├─────────────────────────────────┼────────────────────────┼───────────────┤\n",
              "│ conv2d_1 (<span style=\"color: #0087ff; text-decoration-color: #0087ff\">Conv2D</span>)               │ (<span style=\"color: #00d7ff; text-decoration-color: #00d7ff\">None</span>, <span style=\"color: #00af00; text-decoration-color: #00af00\">222</span>, <span style=\"color: #00af00; text-decoration-color: #00af00\">222</span>, <span style=\"color: #00af00; text-decoration-color: #00af00\">32</span>)   │        <span style=\"color: #00af00; text-decoration-color: #00af00\">36,896</span> │\n",
              "├─────────────────────────────────┼────────────────────────┼───────────────┤\n",
              "│ activation_1 (<span style=\"color: #0087ff; text-decoration-color: #0087ff\">Activation</span>)       │ (<span style=\"color: #00d7ff; text-decoration-color: #00d7ff\">None</span>, <span style=\"color: #00af00; text-decoration-color: #00af00\">222</span>, <span style=\"color: #00af00; text-decoration-color: #00af00\">222</span>, <span style=\"color: #00af00; text-decoration-color: #00af00\">32</span>)   │             <span style=\"color: #00af00; text-decoration-color: #00af00\">0</span> │\n",
              "├─────────────────────────────────┼────────────────────────┼───────────────┤\n",
              "│ max_pooling2d (<span style=\"color: #0087ff; text-decoration-color: #0087ff\">MaxPooling2D</span>)    │ (<span style=\"color: #00d7ff; text-decoration-color: #00d7ff\">None</span>, <span style=\"color: #00af00; text-decoration-color: #00af00\">111</span>, <span style=\"color: #00af00; text-decoration-color: #00af00\">111</span>, <span style=\"color: #00af00; text-decoration-color: #00af00\">32</span>)   │             <span style=\"color: #00af00; text-decoration-color: #00af00\">0</span> │\n",
              "├─────────────────────────────────┼────────────────────────┼───────────────┤\n",
              "│ dropout (<span style=\"color: #0087ff; text-decoration-color: #0087ff\">Dropout</span>)               │ (<span style=\"color: #00d7ff; text-decoration-color: #00d7ff\">None</span>, <span style=\"color: #00af00; text-decoration-color: #00af00\">111</span>, <span style=\"color: #00af00; text-decoration-color: #00af00\">111</span>, <span style=\"color: #00af00; text-decoration-color: #00af00\">32</span>)   │             <span style=\"color: #00af00; text-decoration-color: #00af00\">0</span> │\n",
              "├─────────────────────────────────┼────────────────────────┼───────────────┤\n",
              "│ conv2d_2 (<span style=\"color: #0087ff; text-decoration-color: #0087ff\">Conv2D</span>)               │ (<span style=\"color: #00d7ff; text-decoration-color: #00d7ff\">None</span>, <span style=\"color: #00af00; text-decoration-color: #00af00\">111</span>, <span style=\"color: #00af00; text-decoration-color: #00af00\">111</span>, <span style=\"color: #00af00; text-decoration-color: #00af00\">64</span>)   │        <span style=\"color: #00af00; text-decoration-color: #00af00\">18,496</span> │\n",
              "├─────────────────────────────────┼────────────────────────┼───────────────┤\n",
              "│ activation_2 (<span style=\"color: #0087ff; text-decoration-color: #0087ff\">Activation</span>)       │ (<span style=\"color: #00d7ff; text-decoration-color: #00d7ff\">None</span>, <span style=\"color: #00af00; text-decoration-color: #00af00\">111</span>, <span style=\"color: #00af00; text-decoration-color: #00af00\">111</span>, <span style=\"color: #00af00; text-decoration-color: #00af00\">64</span>)   │             <span style=\"color: #00af00; text-decoration-color: #00af00\">0</span> │\n",
              "├─────────────────────────────────┼────────────────────────┼───────────────┤\n",
              "│ conv2d_3 (<span style=\"color: #0087ff; text-decoration-color: #0087ff\">Conv2D</span>)               │ (<span style=\"color: #00d7ff; text-decoration-color: #00d7ff\">None</span>, <span style=\"color: #00af00; text-decoration-color: #00af00\">109</span>, <span style=\"color: #00af00; text-decoration-color: #00af00\">109</span>, <span style=\"color: #00af00; text-decoration-color: #00af00\">64</span>)   │        <span style=\"color: #00af00; text-decoration-color: #00af00\">36,928</span> │\n",
              "├─────────────────────────────────┼────────────────────────┼───────────────┤\n",
              "│ activation_3 (<span style=\"color: #0087ff; text-decoration-color: #0087ff\">Activation</span>)       │ (<span style=\"color: #00d7ff; text-decoration-color: #00d7ff\">None</span>, <span style=\"color: #00af00; text-decoration-color: #00af00\">109</span>, <span style=\"color: #00af00; text-decoration-color: #00af00\">109</span>, <span style=\"color: #00af00; text-decoration-color: #00af00\">64</span>)   │             <span style=\"color: #00af00; text-decoration-color: #00af00\">0</span> │\n",
              "├─────────────────────────────────┼────────────────────────┼───────────────┤\n",
              "│ max_pooling2d_1 (<span style=\"color: #0087ff; text-decoration-color: #0087ff\">MaxPooling2D</span>)  │ (<span style=\"color: #00d7ff; text-decoration-color: #00d7ff\">None</span>, <span style=\"color: #00af00; text-decoration-color: #00af00\">54</span>, <span style=\"color: #00af00; text-decoration-color: #00af00\">54</span>, <span style=\"color: #00af00; text-decoration-color: #00af00\">64</span>)     │             <span style=\"color: #00af00; text-decoration-color: #00af00\">0</span> │\n",
              "├─────────────────────────────────┼────────────────────────┼───────────────┤\n",
              "│ dropout_1 (<span style=\"color: #0087ff; text-decoration-color: #0087ff\">Dropout</span>)             │ (<span style=\"color: #00d7ff; text-decoration-color: #00d7ff\">None</span>, <span style=\"color: #00af00; text-decoration-color: #00af00\">54</span>, <span style=\"color: #00af00; text-decoration-color: #00af00\">54</span>, <span style=\"color: #00af00; text-decoration-color: #00af00\">64</span>)     │             <span style=\"color: #00af00; text-decoration-color: #00af00\">0</span> │\n",
              "├─────────────────────────────────┼────────────────────────┼───────────────┤\n",
              "│ flatten (<span style=\"color: #0087ff; text-decoration-color: #0087ff\">Flatten</span>)               │ (<span style=\"color: #00d7ff; text-decoration-color: #00d7ff\">None</span>, <span style=\"color: #00af00; text-decoration-color: #00af00\">186624</span>)         │             <span style=\"color: #00af00; text-decoration-color: #00af00\">0</span> │\n",
              "├─────────────────────────────────┼────────────────────────┼───────────────┤\n",
              "│ dense (<span style=\"color: #0087ff; text-decoration-color: #0087ff\">Dense</span>)                   │ (<span style=\"color: #00d7ff; text-decoration-color: #00d7ff\">None</span>, <span style=\"color: #00af00; text-decoration-color: #00af00\">512</span>)            │    <span style=\"color: #00af00; text-decoration-color: #00af00\">95,552,000</span> │\n",
              "├─────────────────────────────────┼────────────────────────┼───────────────┤\n",
              "│ activation_4 (<span style=\"color: #0087ff; text-decoration-color: #0087ff\">Activation</span>)       │ (<span style=\"color: #00d7ff; text-decoration-color: #00d7ff\">None</span>, <span style=\"color: #00af00; text-decoration-color: #00af00\">512</span>)            │             <span style=\"color: #00af00; text-decoration-color: #00af00\">0</span> │\n",
              "├─────────────────────────────────┼────────────────────────┼───────────────┤\n",
              "│ dropout_2 (<span style=\"color: #0087ff; text-decoration-color: #0087ff\">Dropout</span>)             │ (<span style=\"color: #00d7ff; text-decoration-color: #00d7ff\">None</span>, <span style=\"color: #00af00; text-decoration-color: #00af00\">512</span>)            │             <span style=\"color: #00af00; text-decoration-color: #00af00\">0</span> │\n",
              "├─────────────────────────────────┼────────────────────────┼───────────────┤\n",
              "│ dense_1 (<span style=\"color: #0087ff; text-decoration-color: #0087ff\">Dense</span>)                 │ (<span style=\"color: #00d7ff; text-decoration-color: #00d7ff\">None</span>, <span style=\"color: #00af00; text-decoration-color: #00af00\">3</span>)              │         <span style=\"color: #00af00; text-decoration-color: #00af00\">1,539</span> │\n",
              "├─────────────────────────────────┼────────────────────────┼───────────────┤\n",
              "│ activation_5 (<span style=\"color: #0087ff; text-decoration-color: #0087ff\">Activation</span>)       │ (<span style=\"color: #00d7ff; text-decoration-color: #00d7ff\">None</span>, <span style=\"color: #00af00; text-decoration-color: #00af00\">3</span>)              │             <span style=\"color: #00af00; text-decoration-color: #00af00\">0</span> │\n",
              "└─────────────────────────────────┴────────────────────────┴───────────────┘\n",
              "</pre>\n"
            ],
            "text/plain": [
              "┏━━━━━━━━━━━━━━━━━━━━━━━━━━━━━━━━━┳━━━━━━━━━━━━━━━━━━━━━━━━┳━━━━━━━━━━━━━━━┓\n",
              "┃\u001b[1m \u001b[0m\u001b[1mLayer (type)                   \u001b[0m\u001b[1m \u001b[0m┃\u001b[1m \u001b[0m\u001b[1mOutput Shape          \u001b[0m\u001b[1m \u001b[0m┃\u001b[1m \u001b[0m\u001b[1m      Param #\u001b[0m\u001b[1m \u001b[0m┃\n",
              "┡━━━━━━━━━━━━━━━━━━━━━━━━━━━━━━━━━╇━━━━━━━━━━━━━━━━━━━━━━━━╇━━━━━━━━━━━━━━━┩\n",
              "│ conv2d (\u001b[38;5;33mConv2D\u001b[0m)                 │ (\u001b[38;5;45mNone\u001b[0m, \u001b[38;5;34m224\u001b[0m, \u001b[38;5;34m224\u001b[0m, \u001b[38;5;34m128\u001b[0m)  │         \u001b[38;5;34m3,584\u001b[0m │\n",
              "├─────────────────────────────────┼────────────────────────┼───────────────┤\n",
              "│ activation (\u001b[38;5;33mActivation\u001b[0m)         │ (\u001b[38;5;45mNone\u001b[0m, \u001b[38;5;34m224\u001b[0m, \u001b[38;5;34m224\u001b[0m, \u001b[38;5;34m128\u001b[0m)  │             \u001b[38;5;34m0\u001b[0m │\n",
              "├─────────────────────────────────┼────────────────────────┼───────────────┤\n",
              "│ conv2d_1 (\u001b[38;5;33mConv2D\u001b[0m)               │ (\u001b[38;5;45mNone\u001b[0m, \u001b[38;5;34m222\u001b[0m, \u001b[38;5;34m222\u001b[0m, \u001b[38;5;34m32\u001b[0m)   │        \u001b[38;5;34m36,896\u001b[0m │\n",
              "├─────────────────────────────────┼────────────────────────┼───────────────┤\n",
              "│ activation_1 (\u001b[38;5;33mActivation\u001b[0m)       │ (\u001b[38;5;45mNone\u001b[0m, \u001b[38;5;34m222\u001b[0m, \u001b[38;5;34m222\u001b[0m, \u001b[38;5;34m32\u001b[0m)   │             \u001b[38;5;34m0\u001b[0m │\n",
              "├─────────────────────────────────┼────────────────────────┼───────────────┤\n",
              "│ max_pooling2d (\u001b[38;5;33mMaxPooling2D\u001b[0m)    │ (\u001b[38;5;45mNone\u001b[0m, \u001b[38;5;34m111\u001b[0m, \u001b[38;5;34m111\u001b[0m, \u001b[38;5;34m32\u001b[0m)   │             \u001b[38;5;34m0\u001b[0m │\n",
              "├─────────────────────────────────┼────────────────────────┼───────────────┤\n",
              "│ dropout (\u001b[38;5;33mDropout\u001b[0m)               │ (\u001b[38;5;45mNone\u001b[0m, \u001b[38;5;34m111\u001b[0m, \u001b[38;5;34m111\u001b[0m, \u001b[38;5;34m32\u001b[0m)   │             \u001b[38;5;34m0\u001b[0m │\n",
              "├─────────────────────────────────┼────────────────────────┼───────────────┤\n",
              "│ conv2d_2 (\u001b[38;5;33mConv2D\u001b[0m)               │ (\u001b[38;5;45mNone\u001b[0m, \u001b[38;5;34m111\u001b[0m, \u001b[38;5;34m111\u001b[0m, \u001b[38;5;34m64\u001b[0m)   │        \u001b[38;5;34m18,496\u001b[0m │\n",
              "├─────────────────────────────────┼────────────────────────┼───────────────┤\n",
              "│ activation_2 (\u001b[38;5;33mActivation\u001b[0m)       │ (\u001b[38;5;45mNone\u001b[0m, \u001b[38;5;34m111\u001b[0m, \u001b[38;5;34m111\u001b[0m, \u001b[38;5;34m64\u001b[0m)   │             \u001b[38;5;34m0\u001b[0m │\n",
              "├─────────────────────────────────┼────────────────────────┼───────────────┤\n",
              "│ conv2d_3 (\u001b[38;5;33mConv2D\u001b[0m)               │ (\u001b[38;5;45mNone\u001b[0m, \u001b[38;5;34m109\u001b[0m, \u001b[38;5;34m109\u001b[0m, \u001b[38;5;34m64\u001b[0m)   │        \u001b[38;5;34m36,928\u001b[0m │\n",
              "├─────────────────────────────────┼────────────────────────┼───────────────┤\n",
              "│ activation_3 (\u001b[38;5;33mActivation\u001b[0m)       │ (\u001b[38;5;45mNone\u001b[0m, \u001b[38;5;34m109\u001b[0m, \u001b[38;5;34m109\u001b[0m, \u001b[38;5;34m64\u001b[0m)   │             \u001b[38;5;34m0\u001b[0m │\n",
              "├─────────────────────────────────┼────────────────────────┼───────────────┤\n",
              "│ max_pooling2d_1 (\u001b[38;5;33mMaxPooling2D\u001b[0m)  │ (\u001b[38;5;45mNone\u001b[0m, \u001b[38;5;34m54\u001b[0m, \u001b[38;5;34m54\u001b[0m, \u001b[38;5;34m64\u001b[0m)     │             \u001b[38;5;34m0\u001b[0m │\n",
              "├─────────────────────────────────┼────────────────────────┼───────────────┤\n",
              "│ dropout_1 (\u001b[38;5;33mDropout\u001b[0m)             │ (\u001b[38;5;45mNone\u001b[0m, \u001b[38;5;34m54\u001b[0m, \u001b[38;5;34m54\u001b[0m, \u001b[38;5;34m64\u001b[0m)     │             \u001b[38;5;34m0\u001b[0m │\n",
              "├─────────────────────────────────┼────────────────────────┼───────────────┤\n",
              "│ flatten (\u001b[38;5;33mFlatten\u001b[0m)               │ (\u001b[38;5;45mNone\u001b[0m, \u001b[38;5;34m186624\u001b[0m)         │             \u001b[38;5;34m0\u001b[0m │\n",
              "├─────────────────────────────────┼────────────────────────┼───────────────┤\n",
              "│ dense (\u001b[38;5;33mDense\u001b[0m)                   │ (\u001b[38;5;45mNone\u001b[0m, \u001b[38;5;34m512\u001b[0m)            │    \u001b[38;5;34m95,552,000\u001b[0m │\n",
              "├─────────────────────────────────┼────────────────────────┼───────────────┤\n",
              "│ activation_4 (\u001b[38;5;33mActivation\u001b[0m)       │ (\u001b[38;5;45mNone\u001b[0m, \u001b[38;5;34m512\u001b[0m)            │             \u001b[38;5;34m0\u001b[0m │\n",
              "├─────────────────────────────────┼────────────────────────┼───────────────┤\n",
              "│ dropout_2 (\u001b[38;5;33mDropout\u001b[0m)             │ (\u001b[38;5;45mNone\u001b[0m, \u001b[38;5;34m512\u001b[0m)            │             \u001b[38;5;34m0\u001b[0m │\n",
              "├─────────────────────────────────┼────────────────────────┼───────────────┤\n",
              "│ dense_1 (\u001b[38;5;33mDense\u001b[0m)                 │ (\u001b[38;5;45mNone\u001b[0m, \u001b[38;5;34m3\u001b[0m)              │         \u001b[38;5;34m1,539\u001b[0m │\n",
              "├─────────────────────────────────┼────────────────────────┼───────────────┤\n",
              "│ activation_5 (\u001b[38;5;33mActivation\u001b[0m)       │ (\u001b[38;5;45mNone\u001b[0m, \u001b[38;5;34m3\u001b[0m)              │             \u001b[38;5;34m0\u001b[0m │\n",
              "└─────────────────────────────────┴────────────────────────┴───────────────┘\n"
            ]
          },
          "metadata": {},
          "output_type": "display_data"
        },
        {
          "data": {
            "text/html": [
              "<pre style=\"white-space:pre;overflow-x:auto;line-height:normal;font-family:Menlo,'DejaVu Sans Mono',consolas,'Courier New',monospace\"><span style=\"font-weight: bold\"> Total params: </span><span style=\"color: #00af00; text-decoration-color: #00af00\">95,649,443</span> (364.87 MB)\n",
              "</pre>\n"
            ],
            "text/plain": [
              "\u001b[1m Total params: \u001b[0m\u001b[38;5;34m95,649,443\u001b[0m (364.87 MB)\n"
            ]
          },
          "metadata": {},
          "output_type": "display_data"
        },
        {
          "data": {
            "text/html": [
              "<pre style=\"white-space:pre;overflow-x:auto;line-height:normal;font-family:Menlo,'DejaVu Sans Mono',consolas,'Courier New',monospace\"><span style=\"font-weight: bold\"> Trainable params: </span><span style=\"color: #00af00; text-decoration-color: #00af00\">95,649,443</span> (364.87 MB)\n",
              "</pre>\n"
            ],
            "text/plain": [
              "\u001b[1m Trainable params: \u001b[0m\u001b[38;5;34m95,649,443\u001b[0m (364.87 MB)\n"
            ]
          },
          "metadata": {},
          "output_type": "display_data"
        },
        {
          "data": {
            "text/html": [
              "<pre style=\"white-space:pre;overflow-x:auto;line-height:normal;font-family:Menlo,'DejaVu Sans Mono',consolas,'Courier New',monospace\"><span style=\"font-weight: bold\"> Non-trainable params: </span><span style=\"color: #00af00; text-decoration-color: #00af00\">0</span> (0.00 B)\n",
              "</pre>\n"
            ],
            "text/plain": [
              "\u001b[1m Non-trainable params: \u001b[0m\u001b[38;5;34m0\u001b[0m (0.00 B)\n"
            ]
          },
          "metadata": {},
          "output_type": "display_data"
        }
      ],
      "source": [
        "model.summary()"
      ]
    },
    {
      "cell_type": "markdown",
      "id": "8aed193e-2fc5-4a2f-b0ec-e7dea8af5bcf",
      "metadata": {
        "id": "8aed193e-2fc5-4a2f-b0ec-e7dea8af5bcf"
      },
      "source": [
        "## Using Pre-trained model / Transfer Learning"
      ]
    },
    {
      "cell_type": "markdown",
      "id": "e4b45b10-3f0f-452e-ba04-2147da92a22b",
      "metadata": {
        "id": "e4b45b10-3f0f-452e-ba04-2147da92a22b"
      },
      "source": [
        "## Prebuild model"
      ]
    },
    {
      "cell_type": "markdown",
      "id": "5edbf919-7a28-433d-8bd9-ca8d6c769122",
      "metadata": {
        "id": "5edbf919-7a28-433d-8bd9-ca8d6c769122"
      },
      "source": [
        "## Build Base Model"
      ]
    },
    {
      "cell_type": "code",
      "execution_count": null,
      "id": "97cdee91-02cc-4938-b661-b2701e553a14",
      "metadata": {
        "id": "97cdee91-02cc-4938-b661-b2701e553a14"
      },
      "outputs": [],
      "source": [
        "from tensorflow.keras.applications import MobileNetV2\n",
        "\n",
        "# get base models\n",
        "input_shape = (224, 224, 3)\n",
        "base_model = MobileNetV2(\n",
        "    input_shape=input_shape,\n",
        "    include_top=False,\n",
        "    weights='imagenet',\n",
        "    classes=num_class\n",
        ")\n"
      ]
    },
    {
      "cell_type": "markdown",
      "id": "cd6d02c3-c3ca-4b68-a0ee-b88ed3854320",
      "metadata": {
        "id": "cd6d02c3-c3ca-4b68-a0ee-b88ed3854320"
      },
      "source": [
        "## Add top layer network"
      ]
    },
    {
      "cell_type": "code",
      "execution_count": null,
      "id": "e23b367f-09a4-4bd1-b15f-0a704ebc7ad1",
      "metadata": {
        "id": "e23b367f-09a4-4bd1-b15f-0a704ebc7ad1"
      },
      "outputs": [],
      "source": [
        "from tensorflow.keras import layers,Sequential\n",
        "from tensorflow.keras.models import Model"
      ]
    },
    {
      "cell_type": "code",
      "execution_count": null,
      "id": "25272bac-ceea-4931-b4f3-cdb0d7c1d1bf",
      "metadata": {
        "id": "25272bac-ceea-4931-b4f3-cdb0d7c1d1bf"
      },
      "outputs": [],
      "source": [
        "#Adding custom layers\n",
        "x = base_model.output\n",
        "x = layers.GlobalAveragePooling2D()(x)\n",
        "x = layers.Dropout(0.2)(x)\n",
        "x = layers.Dense(1024, activation=\"relu\")(x)\n",
        "\n",
        "predictions = layers.Dense(num_class, activation=\"softmax\")(x)\n",
        "model = Model(inputs=base_model.input, outputs=predictions)"
      ]
    },
    {
      "cell_type": "code",
      "execution_count": null,
      "id": "e845c4a6",
      "metadata": {
        "id": "e845c4a6"
      },
      "outputs": [],
      "source": [
        "# model.summary()"
      ]
    },
    {
      "cell_type": "code",
      "execution_count": null,
      "id": "f24224ed",
      "metadata": {
        "id": "f24224ed",
        "outputId": "3c0f1297-23cb-4bde-9a7f-8c60ff233f21"
      },
      "outputs": [
        {
          "name": "stdout",
          "output_type": "stream",
          "text": [
            "Compiling Model.......\n"
          ]
        }
      ],
      "source": [
        "# Compile the model\n",
        "print('Compiling Model.......')\n",
        "model.compile(optimizer='adam',\n",
        "              loss='categorical_crossentropy',\n",
        "              metrics=['accuracy'])"
      ]
    },
    {
      "cell_type": "markdown",
      "id": "9ba49e2e-7e6e-4f6f-9d85-9678e61fb036",
      "metadata": {
        "id": "9ba49e2e-7e6e-4f6f-9d85-9678e61fb036"
      },
      "source": [
        "## Effinet"
      ]
    },
    {
      "cell_type": "code",
      "execution_count": null,
      "id": "734c1401-c997-4f6e-a30a-18d1223ab668",
      "metadata": {
        "colab": {
          "base_uri": "https://localhost:8080/"
        },
        "id": "734c1401-c997-4f6e-a30a-18d1223ab668",
        "outputId": "06e2e996-3c29-4d1d-813b-d23bb5906d0d"
      },
      "outputs": [
        {
          "name": "stdout",
          "output_type": "stream",
          "text": [
            "Requirement already satisfied: efficientnet in c:\\users\\m s i\\appdata\\local\\programs\\python\\python311\\lib\\site-packages (1.1.1)\n",
            "Requirement already satisfied: keras-applications<=1.0.8,>=1.0.7 in c:\\users\\m s i\\appdata\\local\\programs\\python\\python311\\lib\\site-packages (from efficientnet) (1.0.8)\n",
            "Requirement already satisfied: scikit-image in c:\\users\\m s i\\appdata\\local\\programs\\python\\python311\\lib\\site-packages (from efficientnet) (0.24.0)\n",
            "Requirement already satisfied: numpy>=1.9.1 in c:\\users\\m s i\\appdata\\local\\programs\\python\\python311\\lib\\site-packages (from keras-applications<=1.0.8,>=1.0.7->efficientnet) (1.24.4)\n",
            "Requirement already satisfied: h5py in c:\\users\\m s i\\appdata\\local\\programs\\python\\python311\\lib\\site-packages (from keras-applications<=1.0.8,>=1.0.7->efficientnet) (3.11.0)\n",
            "Requirement already satisfied: scipy>=1.9 in c:\\users\\m s i\\appdata\\local\\programs\\python\\python311\\lib\\site-packages (from scikit-image->efficientnet) (1.14.1)\n",
            "Requirement already satisfied: networkx>=2.8 in c:\\users\\m s i\\appdata\\local\\programs\\python\\python311\\lib\\site-packages (from scikit-image->efficientnet) (3.4.2)\n",
            "Requirement already satisfied: pillow>=9.1 in c:\\users\\m s i\\appdata\\local\\programs\\python\\python311\\lib\\site-packages (from scikit-image->efficientnet) (10.4.0)\n",
            "Requirement already satisfied: imageio>=2.33 in c:\\users\\m s i\\appdata\\local\\programs\\python\\python311\\lib\\site-packages (from scikit-image->efficientnet) (2.36.0)\n",
            "Requirement already satisfied: tifffile>=2022.8.12 in c:\\users\\m s i\\appdata\\local\\programs\\python\\python311\\lib\\site-packages (from scikit-image->efficientnet) (2024.9.20)\n",
            "Requirement already satisfied: packaging>=21 in c:\\users\\m s i\\appdata\\local\\programs\\python\\python311\\lib\\site-packages (from scikit-image->efficientnet) (24.1)\n",
            "Requirement already satisfied: lazy-loader>=0.4 in c:\\users\\m s i\\appdata\\local\\programs\\python\\python311\\lib\\site-packages (from scikit-image->efficientnet) (0.4)\n",
            "Note: you may need to restart the kernel to use updated packages.\n"
          ]
        },
        {
          "name": "stderr",
          "output_type": "stream",
          "text": [
            "\n",
            "[notice] A new release of pip is available: 24.2 -> 24.3.1\n",
            "[notice] To update, run: python.exe -m pip install --upgrade pip\n"
          ]
        }
      ],
      "source": [
        "pip install efficientnet"
      ]
    },
    {
      "cell_type": "code",
      "execution_count": null,
      "id": "50146fc8-19f4-4dcf-8b64-a03ba3866b03",
      "metadata": {
        "id": "50146fc8-19f4-4dcf-8b64-a03ba3866b03"
      },
      "outputs": [],
      "source": [
        "from efficientnet.tfkeras import EfficientNetB1"
      ]
    },
    {
      "cell_type": "markdown",
      "id": "32218cb8",
      "metadata": {
        "id": "32218cb8"
      },
      "source": [
        "## Prebuild model"
      ]
    },
    {
      "cell_type": "markdown",
      "id": "8ddc9272-dbe4-4696-8729-1eece7ee0764",
      "metadata": {
        "id": "8ddc9272-dbe4-4696-8729-1eece7ee0764"
      },
      "source": [
        "## Build Base model"
      ]
    },
    {
      "cell_type": "code",
      "execution_count": null,
      "id": "3dffd819-6010-4d30-830a-d8fcb4ae499b",
      "metadata": {
        "id": "3dffd819-6010-4d30-830a-d8fcb4ae499b"
      },
      "outputs": [],
      "source": [
        "# get base models\n",
        "base_model = EfficientNetB1(\n",
        "    input_shape=input_shape,\n",
        "    include_top=False,\n",
        "    weights='noisy-student',\n",
        "    classes=num_class,\n",
        ")"
      ]
    },
    {
      "cell_type": "markdown",
      "id": "798e354e-d2da-4078-a4d8-69d95260ef37",
      "metadata": {
        "id": "798e354e-d2da-4078-a4d8-69d95260ef37"
      },
      "source": [
        "## Add top network layer to models"
      ]
    },
    {
      "cell_type": "code",
      "execution_count": null,
      "id": "77f8ea9f-b551-460b-ae7f-a4cc3816c015",
      "metadata": {
        "id": "77f8ea9f-b551-460b-ae7f-a4cc3816c015"
      },
      "outputs": [],
      "source": [
        "from tensorflow.keras import layers,Sequential\n",
        "from tensorflow.keras.models import Model"
      ]
    },
    {
      "cell_type": "code",
      "execution_count": null,
      "id": "f18f2e2d-53f6-4d4a-9da2-220196e3e285",
      "metadata": {
        "id": "f18f2e2d-53f6-4d4a-9da2-220196e3e285"
      },
      "outputs": [],
      "source": [
        "#Adding custom layers\n",
        "x = base_model.output\n",
        "x = layers.GlobalAveragePooling2D()(x)\n",
        "x = layers.Dropout(0.5)(x)\n",
        "x = layers.Dense(1024, activation=\"relu\")(x)\n",
        "\n",
        "predictions = layers.Dense(num_class, activation=\"softmax\")(x)\n",
        "model = Model(inputs=base_model.input, outputs=predictions)"
      ]
    },
    {
      "cell_type": "code",
      "execution_count": null,
      "id": "76d07687",
      "metadata": {
        "id": "76d07687"
      },
      "outputs": [],
      "source": [
        "#model.summary()"
      ]
    },
    {
      "cell_type": "code",
      "execution_count": null,
      "id": "228c5ea8-73c1-4ee6-a531-b2ddeddb3755",
      "metadata": {
        "colab": {
          "base_uri": "https://localhost:8080/"
        },
        "id": "228c5ea8-73c1-4ee6-a531-b2ddeddb3755",
        "outputId": "341c0abc-579f-4730-d8b1-40ab13191324"
      },
      "outputs": [
        {
          "name": "stdout",
          "output_type": "stream",
          "text": [
            "Compiling Model.......\n"
          ]
        }
      ],
      "source": [
        "\n",
        "# Compile the model\n",
        "print('Compiling Model.......')\n",
        "model.compile(optimizer='adam',\n",
        "              loss='categorical_crossentropy',\n",
        "              metrics=['accuracy'])"
      ]
    },
    {
      "cell_type": "markdown",
      "id": "1aafc919-0cda-468b-8df0-b1de4bbcaeab",
      "metadata": {
        "id": "1aafc919-0cda-468b-8df0-b1de4bbcaeab"
      },
      "source": [
        "## Visualize The final model\n"
      ]
    },
    {
      "cell_type": "code",
      "execution_count": null,
      "id": "qW-6X0zU746w",
      "metadata": {
        "colab": {
          "base_uri": "https://localhost:8080/"
        },
        "id": "qW-6X0zU746w",
        "outputId": "59686ed9-0207-4faa-9ced-4e885cc71fd4"
      },
      "outputs": [
        {
          "name": "stdout",
          "output_type": "stream",
          "text": [
            "Requirement already satisfied: visualkeras in c:\\users\\m s i\\appdata\\local\\programs\\python\\python311\\lib\\site-packages (0.1.3)\n",
            "Requirement already satisfied: pillow>=6.2.0 in c:\\users\\m s i\\appdata\\local\\programs\\python\\python311\\lib\\site-packages (from visualkeras) (10.4.0)\n",
            "Requirement already satisfied: numpy>=1.18.1 in c:\\users\\m s i\\appdata\\local\\programs\\python\\python311\\lib\\site-packages (from visualkeras) (1.24.4)\n",
            "Requirement already satisfied: aggdraw>=1.3.11 in c:\\users\\m s i\\appdata\\local\\programs\\python\\python311\\lib\\site-packages (from visualkeras) (1.3.19)\n",
            "Note: you may need to restart the kernel to use updated packages.\n"
          ]
        },
        {
          "name": "stderr",
          "output_type": "stream",
          "text": [
            "\n",
            "[notice] A new release of pip is available: 24.2 -> 24.3.1\n",
            "[notice] To update, run: python.exe -m pip install --upgrade pip\n"
          ]
        }
      ],
      "source": [
        "pip install visualkeras"
      ]
    },
    {
      "cell_type": "code",
      "execution_count": null,
      "id": "yvt5QMYX772K",
      "metadata": {
        "colab": {
          "base_uri": "https://localhost:8080/"
        },
        "id": "yvt5QMYX772K",
        "outputId": "79adf31d-308e-4cd1-cd66-9ff0ff214b21"
      },
      "outputs": [
        {
          "name": "stdout",
          "output_type": "stream",
          "text": [
            "Requirement already satisfied: netron in c:\\users\\m s i\\appdata\\local\\programs\\python\\python311\\lib\\site-packages (8.0.2)\n",
            "Note: you may need to restart the kernel to use updated packages.\n"
          ]
        },
        {
          "name": "stderr",
          "output_type": "stream",
          "text": [
            "\n",
            "[notice] A new release of pip is available: 24.2 -> 24.3.1\n",
            "[notice] To update, run: python.exe -m pip install --upgrade pip\n"
          ]
        }
      ],
      "source": [
        "pip install netron"
      ]
    },
    {
      "cell_type": "code",
      "execution_count": null,
      "id": "9490bd62-4ca2-404d-9650-b4b871be7375",
      "metadata": {
        "id": "9490bd62-4ca2-404d-9650-b4b871be7375"
      },
      "outputs": [],
      "source": [
        "import tensorflow as tf"
      ]
    },
    {
      "cell_type": "code",
      "execution_count": null,
      "id": "nznTa8Rq71Jo",
      "metadata": {
        "colab": {
          "base_uri": "https://localhost:8080/"
        },
        "id": "nznTa8Rq71Jo",
        "outputId": "232d045f-222c-473e-aae3-822d6e927a42"
      },
      "outputs": [
        {
          "name": "stderr",
          "output_type": "stream",
          "text": [
            "c:\\Users\\M S I\\AppData\\Local\\Programs\\Python\\Python311\\Lib\\site-packages\\visualkeras\\layered.py:86: UserWarning: The legend_text_spacing_offset parameter is deprecated and will be removed in a future release.\n",
            "  warnings.warn(\"The legend_text_spacing_offset parameter is deprecated and will be removed in a future release.\")\n"
          ]
        }
      ],
      "source": [
        "import tensorflow as tf\n",
        "import visualkeras\n",
        "import netron\n",
        "\n",
        "# ... (Your model definition) ...\n",
        "\n",
        "# Option 1: Using visualkeras\n",
        "visualkeras.layered_view(model, to_file='model_visualkeras.png').show() # display the image\n",
        "\n",
        "# # Option 2: Using netron\n",
        "# model.save('project-PM-kel-05/model.h5')\n",
        "# netron.start('project-PM-kel-05/model.h5')"
      ]
    },
    {
      "cell_type": "code",
      "execution_count": null,
      "id": "edc433fb",
      "metadata": {
        "id": "edc433fb"
      },
      "outputs": [],
      "source": [
        "# model_viz = tf.keras.utils.plot_model(model,\n",
        "#                           to_file='model.png',\n",
        "#                           show_shapes=True,\n",
        "#                           show_layer_names=True,\n",
        "#                           rankdir='TB',\n",
        "#                           expand_nested=True,\n",
        "#                           dpi=55)\n",
        "# model_viz"
      ]
    },
    {
      "cell_type": "code",
      "execution_count": null,
      "id": "d6f6cdbc",
      "metadata": {
        "id": "d6f6cdbc",
        "outputId": "045fe515-a796-4466-c3cc-838465267f26"
      },
      "outputs": [
        {
          "name": "stdout",
          "output_type": "stream",
          "text": [
            "Collecting pydot\n",
            "  Using cached pydot-3.0.2-py3-none-any.whl.metadata (10 kB)\n",
            "Requirement already satisfied: pyparsing>=3.0.9 in c:\\users\\m s i\\appdata\\local\\programs\\python\\python311\\lib\\site-packages (from pydot) (3.1.4)\n",
            "Using cached pydot-3.0.2-py3-none-any.whl (35 kB)\n",
            "Installing collected packages: pydot\n",
            "Successfully installed pydot-3.0.2\n",
            "Note: you may need to restart the kernel to use updated packages.\n"
          ]
        },
        {
          "name": "stderr",
          "output_type": "stream",
          "text": [
            "\n",
            "[notice] A new release of pip is available: 24.2 -> 24.3.1\n",
            "[notice] To update, run: python.exe -m pip install --upgrade pip\n"
          ]
        }
      ],
      "source": [
        "# pip install pydot"
      ]
    },
    {
      "cell_type": "markdown",
      "id": "7b9115be-0e35-413c-a491-6703589e94b6",
      "metadata": {
        "id": "7b9115be-0e35-413c-a491-6703589e94b6"
      },
      "source": [
        "## Train Model"
      ]
    },
    {
      "cell_type": "code",
      "execution_count": null,
      "id": "9df22ddd",
      "metadata": {
        "id": "9df22ddd"
      },
      "outputs": [],
      "source": [
        "epochs = 10"
      ]
    },
    {
      "cell_type": "code",
      "execution_count": null,
      "id": "fcc6429b",
      "metadata": {
        "id": "fcc6429b",
        "outputId": "2af1c8c4-f192-478f-d422-bd95f90d054f"
      },
      "outputs": [
        {
          "name": "stdout",
          "output_type": "stream",
          "text": [
            "Epoch 1/10\n",
            "\u001b[1m76/76\u001b[0m \u001b[32m━━━━━━━━━━━━━━━━━━━━\u001b[0m\u001b[37m\u001b[0m \u001b[1m144s\u001b[0m 2s/step - accuracy: 0.9145 - loss: 0.3880 - val_accuracy: 0.6316 - val_loss: 4.9238\n",
            "Epoch 2/10\n",
            "\u001b[1m76/76\u001b[0m \u001b[32m━━━━━━━━━━━━━━━━━━━━\u001b[0m\u001b[37m\u001b[0m \u001b[1m152s\u001b[0m 2s/step - accuracy: 0.9564 - loss: 0.1668 - val_accuracy: 1.0000 - val_loss: 0.0013\n",
            "Epoch 3/10\n",
            "\u001b[1m76/76\u001b[0m \u001b[32m━━━━━━━━━━━━━━━━━━━━\u001b[0m\u001b[37m\u001b[0m \u001b[1m135s\u001b[0m 2s/step - accuracy: 0.9543 - loss: 0.1919 - val_accuracy: 0.9474 - val_loss: 0.1032\n",
            "Epoch 4/10\n",
            "\u001b[1m76/76\u001b[0m \u001b[32m━━━━━━━━━━━━━━━━━━━━\u001b[0m\u001b[37m\u001b[0m \u001b[1m142s\u001b[0m 2s/step - accuracy: 0.9434 - loss: 0.1878 - val_accuracy: 0.9737 - val_loss: 0.0786\n",
            "Epoch 5/10\n",
            "\u001b[1m76/76\u001b[0m \u001b[32m━━━━━━━━━━━━━━━━━━━━\u001b[0m\u001b[37m\u001b[0m \u001b[1m146s\u001b[0m 2s/step - accuracy: 0.9563 - loss: 0.2520 - val_accuracy: 1.0000 - val_loss: 7.4831e-04\n",
            "Epoch 6/10\n",
            "\u001b[1m76/76\u001b[0m \u001b[32m━━━━━━━━━━━━━━━━━━━━\u001b[0m\u001b[37m\u001b[0m \u001b[1m145s\u001b[0m 2s/step - accuracy: 0.9670 - loss: 0.0791 - val_accuracy: 1.0000 - val_loss: 4.5803e-04\n",
            "Epoch 7/10\n",
            "\u001b[1m76/76\u001b[0m \u001b[32m━━━━━━━━━━━━━━━━━━━━\u001b[0m\u001b[37m\u001b[0m \u001b[1m148s\u001b[0m 2s/step - accuracy: 0.9679 - loss: 0.1034 - val_accuracy: 1.0000 - val_loss: 4.9076e-04\n",
            "Epoch 8/10\n",
            "\u001b[1m76/76\u001b[0m \u001b[32m━━━━━━━━━━━━━━━━━━━━\u001b[0m\u001b[37m\u001b[0m \u001b[1m153s\u001b[0m 2s/step - accuracy: 0.9958 - loss: 0.0250 - val_accuracy: 1.0000 - val_loss: 0.0175\n",
            "Epoch 9/10\n",
            "\u001b[1m76/76\u001b[0m \u001b[32m━━━━━━━━━━━━━━━━━━━━\u001b[0m\u001b[37m\u001b[0m \u001b[1m136s\u001b[0m 2s/step - accuracy: 0.9718 - loss: 0.1029 - val_accuracy: 1.0000 - val_loss: 8.3516e-05\n",
            "Epoch 10/10\n",
            "\u001b[1m76/76\u001b[0m \u001b[32m━━━━━━━━━━━━━━━━━━━━\u001b[0m\u001b[37m\u001b[0m \u001b[1m136s\u001b[0m 2s/step - accuracy: 0.9909 - loss: 0.0434 - val_accuracy: 1.0000 - val_loss: 0.0022\n"
          ]
        }
      ],
      "source": [
        "history = model.fit(x=train_data,\n",
        "        steps_per_epoch=len(train_generator),\n",
        "        epochs=epochs,\n",
        "        validation_data=val_data,\n",
        "        validation_steps=len(val_generator),\n",
        "        shuffle=True,\n",
        "        verbose = 1)"
      ]
    },
    {
      "cell_type": "code",
      "execution_count": null,
      "id": "-XpB41xsD0Oo",
      "metadata": {
        "colab": {
          "base_uri": "https://localhost:8080/"
        },
        "id": "-XpB41xsD0Oo",
        "outputId": "e4b4c504-4cbf-4448-f1b7-54ce81c16a27"
      },
      "outputs": [
        {
          "data": {
            "text/plain": [
              "[0.218908429145813,\n",
              " 0.13572220504283905,\n",
              " 0.18987415730953217,\n",
              " 0.15824995934963226,\n",
              " 0.13683849573135376,\n",
              " 0.06074804440140724,\n",
              " 0.07921381294727325,\n",
              " 0.05043156072497368,\n",
              " 0.06372079253196716,\n",
              " 0.07597362250089645]"
            ]
          },
          "execution_count": 183,
          "metadata": {},
          "output_type": "execute_result"
        }
      ],
      "source": [
        "history.history['loss']"
      ]
    },
    {
      "cell_type": "code",
      "execution_count": null,
      "id": "2wsZvUOBJWrT",
      "metadata": {
        "colab": {
          "base_uri": "https://localhost:8080/"
        },
        "id": "2wsZvUOBJWrT",
        "outputId": "8758f6a5-7a57-4608-dc2a-e75e983c416e"
      },
      "outputs": [
        {
          "data": {
            "text/plain": [
              "[0.9434276223182678,\n",
              " 0.9667221307754517,\n",
              " 0.9467554092407227,\n",
              " 0.9484192728996277,\n",
              " 0.9633943438529968,\n",
              " 0.9767054915428162,\n",
              " 0.9750415682792664,\n",
              " 0.9900166392326355,\n",
              " 0.981697142124176,\n",
              " 0.980033278465271]"
            ]
          },
          "execution_count": 184,
          "metadata": {},
          "output_type": "execute_result"
        }
      ],
      "source": [
        "history.history['accuracy']"
      ]
    },
    {
      "cell_type": "markdown",
      "id": "C-cZ1hLPJeZe",
      "metadata": {
        "id": "C-cZ1hLPJeZe"
      },
      "source": [
        "## Plot the training"
      ]
    },
    {
      "cell_type": "code",
      "execution_count": null,
      "id": "dgWajOT9JZVy",
      "metadata": {
        "id": "dgWajOT9JZVy"
      },
      "outputs": [],
      "source": [
        "from matplotlib import pyplot as plt"
      ]
    },
    {
      "cell_type": "code",
      "execution_count": null,
      "id": "ffMYFAkXJgzj",
      "metadata": {
        "colab": {
          "base_uri": "https://localhost:8080/",
          "height": 472
        },
        "id": "ffMYFAkXJgzj",
        "outputId": "09f9dd20-1ce3-44ee-b350-b4c86c53f9e3"
      },
      "outputs": [
        {
          "data": {
            "image/png": "[encoded data removed]",
            "text/plain": [
              "<Figure size 640x480 with 1 Axes>"
            ]
          },
          "metadata": {},
          "output_type": "display_data"
        }
      ],
      "source": [
        "# Plot history: MAE\n",
        "plt.plot(history.history['loss'], label='Training Loss')\n",
        "plt.plot(history.history['val_loss'], label='Validation Loss')\n",
        "plt.title('Training and Validation Loss')\n",
        "plt.ylabel('value')\n",
        "plt.xlabel('No. epoch')\n",
        "plt.legend(loc=\"upper left\")\n",
        "plt.show()"
      ]
    },
    {
      "cell_type": "code",
      "execution_count": null,
      "id": "sW8jBXDuJibp",
      "metadata": {
        "colab": {
          "base_uri": "https://localhost:8080/",
          "height": 472
        },
        "id": "sW8jBXDuJibp",
        "outputId": "bf6937da-b121-47ac-acd8-ef98450f3e33"
      },
      "outputs": [
        {
          "data": {
            "image/png": "[encoded data removed]",
            "text/plain": [
              "<Figure size 640x480 with 1 Axes>"
            ]
          },
          "metadata": {},
          "output_type": "display_data"
        }
      ],
      "source": [
        "# Plot history: MSE\n",
        "plt.plot(history.history['accuracy'], label='Training Accuracy')\n",
        "plt.plot(history.history['val_accuracy'], label='Validation Accuracy')\n",
        "plt.title('Training and Validation Accuracy')\n",
        "plt.ylabel('value')\n",
        "plt.xlabel('No. epoch')\n",
        "plt.legend(loc=\"upper left\")\n",
        "plt.show()"
      ]
    },
    {
      "cell_type": "markdown",
      "id": "9k_NMH8GJ596",
      "metadata": {
        "id": "9k_NMH8GJ596"
      },
      "source": [
        "## Save Model"
      ]
    },
    {
      "cell_type": "code",
      "execution_count": null,
      "id": "HoCMKG0TJtJU",
      "metadata": {
        "id": "HoCMKG0TJtJU"
      },
      "outputs": [],
      "source": [
        "import os"
      ]
    },
    {
      "cell_type": "code",
      "execution_count": 27,
      "id": "039fdc78",
      "metadata": {
        "id": "039fdc78",
        "outputId": "a2d801f6-af08-4dd8-88da-37b86211f9ff",
        "colab": {
          "base_uri": "https://localhost:8080/"
        }
      },
      "outputs": [
        {
          "output_type": "stream",
          "name": "stdout",
          "text": [
            "Saving Model At /content/project-PM-kel-05/modelmodel.keras...\n"
          ]
        }
      ],
      "source": [
        "MODEL_BASE_PATH = \"model\"\n",
        "PROJECT_NAME = \"fish_project\"\n",
        "SAVE_MODEL_NAME = \"/content/project-PM-kel-05/modelmodel.keras\"\n",
        "save_model_path = os.path.join(MODEL_BASE_PATH, PROJECT_NAME, SAVE_MODEL_NAME)\n",
        "\n",
        "if os.path.exists(os.path.join(MODEL_BASE_PATH, PROJECT_NAME)) == False:\n",
        "    os.makedirs(os.path.join(MODEL_BASE_PATH, PROJECT_NAME))\n",
        "\n",
        "print('Saving Model At {}...'.format(save_model_path))\n",
        "model.save(save_model_path)"
      ]
    },
    {
      "cell_type": "code",
      "execution_count": null,
      "id": "4443dc3e",
      "metadata": {
        "id": "4443dc3e",
        "outputId": "5219c72b-2494-442b-e023-cc3b8c604775"
      },
      "outputs": [
        {
          "name": "stdout",
          "output_type": "stream",
          "text": [
            "Current working directory: c:\\Users\\M S I\\PM\\Project-PM\\project-PM-kel-05\n",
            "Files in the current directory: ['.git', '.ipynb_checkpoints', 'best_model.keras', 'dataset', 'Jurnal', 'model', 'model.png', 'ModelTrain.ipynb', 'model_visualkeras.png', 'new_data', 'Original_dataset', 'PredictFunction.ipynb', 'SplitDataset.ipynb']\n"
          ]
        }
      ],
      "source": [
        "import os\n",
        "print(\"Current working directory:\", os.getcwd())\n",
        "print(\"Files in the current directory:\", os.listdir())\n"
      ]
    },
    {
      "cell_type": "markdown",
      "id": "EZiP_DOMKCdx",
      "metadata": {
        "id": "EZiP_DOMKCdx"
      },
      "source": [
        "## Evaluate Models"
      ]
    },
    {
      "cell_type": "code",
      "execution_count": 28,
      "id": "7QKRipy6KDI1",
      "metadata": {
        "colab": {
          "base_uri": "https://localhost:8080/",
          "height": 211
        },
        "id": "7QKRipy6KDI1",
        "outputId": "899505c5-b25a-47dd-94c3-e378fa9c232b"
      },
      "outputs": [
        {
          "output_type": "error",
          "ename": "NameError",
          "evalue": "name 'test_data' is not defined",
          "traceback": [
            "\u001b[0;31m---------------------------------------------------------------------------\u001b[0m",
            "\u001b[0;31mNameError\u001b[0m                                 Traceback (most recent call last)",
            "\u001b[0;32m<ipython-input-28-c507f77c8244>\u001b[0m in \u001b[0;36m<cell line: 1>\u001b[0;34m()\u001b[0m\n\u001b[0;32m----> 1\u001b[0;31m \u001b[0mloss\u001b[0m\u001b[0;34m,\u001b[0m \u001b[0macc\u001b[0m \u001b[0;34m=\u001b[0m \u001b[0mmodel\u001b[0m\u001b[0;34m.\u001b[0m\u001b[0mevaluate\u001b[0m\u001b[0;34m(\u001b[0m\u001b[0mtest_data\u001b[0m\u001b[0;34m,\u001b[0m\u001b[0msteps\u001b[0m\u001b[0;34m=\u001b[0m\u001b[0mlen\u001b[0m\u001b[0;34m(\u001b[0m\u001b[0mtest_generator\u001b[0m\u001b[0;34m)\u001b[0m\u001b[0;34m,\u001b[0m\u001b[0mverbose\u001b[0m\u001b[0;34m=\u001b[0m\u001b[0;36m0\u001b[0m\u001b[0;34m)\u001b[0m\u001b[0;34m\u001b[0m\u001b[0;34m\u001b[0m\u001b[0m\n\u001b[0m\u001b[1;32m      2\u001b[0m \u001b[0mprint\u001b[0m\u001b[0;34m(\u001b[0m\u001b[0;34m'Accuracy on training data: {:.4f} \\nLoss on training data: {:.4f}'\u001b[0m\u001b[0;34m.\u001b[0m\u001b[0mformat\u001b[0m\u001b[0;34m(\u001b[0m\u001b[0macc\u001b[0m\u001b[0;34m,\u001b[0m\u001b[0mloss\u001b[0m\u001b[0;34m)\u001b[0m\u001b[0;34m,\u001b[0m\u001b[0;34m'\\n'\u001b[0m\u001b[0;34m)\u001b[0m\u001b[0;34m\u001b[0m\u001b[0;34m\u001b[0m\u001b[0m\n\u001b[1;32m      3\u001b[0m \u001b[0;34m\u001b[0m\u001b[0m\n\u001b[1;32m      4\u001b[0m \u001b[0mloss\u001b[0m\u001b[0;34m,\u001b[0m \u001b[0macc\u001b[0m \u001b[0;34m=\u001b[0m \u001b[0mmodel\u001b[0m\u001b[0;34m.\u001b[0m\u001b[0mevaluate\u001b[0m\u001b[0;34m(\u001b[0m\u001b[0mtest_data\u001b[0m\u001b[0;34m,\u001b[0m\u001b[0msteps\u001b[0m\u001b[0;34m=\u001b[0m\u001b[0mlen\u001b[0m\u001b[0;34m(\u001b[0m\u001b[0mtest_generator\u001b[0m\u001b[0;34m)\u001b[0m\u001b[0;34m,\u001b[0m\u001b[0mverbose\u001b[0m\u001b[0;34m=\u001b[0m\u001b[0;36m0\u001b[0m\u001b[0;34m)\u001b[0m\u001b[0;34m\u001b[0m\u001b[0;34m\u001b[0m\u001b[0m\n\u001b[1;32m      5\u001b[0m \u001b[0mprint\u001b[0m\u001b[0;34m(\u001b[0m\u001b[0;34m'Accuracy on test data: {:.4f} \\nLoss on test data: {:.4f}'\u001b[0m\u001b[0;34m.\u001b[0m\u001b[0mformat\u001b[0m\u001b[0;34m(\u001b[0m\u001b[0macc\u001b[0m\u001b[0;34m,\u001b[0m\u001b[0mloss\u001b[0m\u001b[0;34m)\u001b[0m\u001b[0;34m,\u001b[0m\u001b[0;34m'\\n'\u001b[0m\u001b[0;34m)\u001b[0m\u001b[0;34m\u001b[0m\u001b[0;34m\u001b[0m\u001b[0m\n",
            "\u001b[0;31mNameError\u001b[0m: name 'test_data' is not defined"
          ]
        }
      ],
      "source": [
        "loss, acc = model.evaluate(test_data,steps=len(test_generator),verbose=0)\n",
        "print('Accuracy on training data: {:.4f} \\nLoss on training data: {:.4f}'.format(acc,loss),'\\n')\n",
        "\n",
        "loss, acc = model.evaluate(test_data,steps=len(test_generator),verbose=0)\n",
        "print('Accuracy on test data: {:.4f} \\nLoss on test data: {:.4f}'.format(acc,loss),'\\n')"
      ]
    },
    {
      "cell_type": "code",
      "execution_count": 44,
      "id": "5f11a17f",
      "metadata": {
        "id": "5f11a17f"
      },
      "outputs": [],
      "source": [
        "import requests\n",
        "from io import BytesIO\n",
        "\n",
        "\n",
        "from PIL import Image\n",
        "import numpy as np"
      ]
    },
    {
      "cell_type": "code",
      "execution_count": 45,
      "id": "f8f1495b",
      "metadata": {
        "id": "f8f1495b"
      },
      "outputs": [],
      "source": [
        "# Parameters\n",
        "input_size = (150,150)\n",
        "\n",
        "#define input shape\n",
        "channel = (3,)\n",
        "input_shape = input_size + channel\n",
        "\n",
        "#define labels\n",
        "labels = ['mujahir', 'red_devil', 'sepat']"
      ]
    },
    {
      "cell_type": "code",
      "execution_count": 58,
      "id": "ca2b23c3",
      "metadata": {
        "id": "ca2b23c3"
      },
      "outputs": [],
      "source": [
        "from tensorflow.keras.applications.efficientnet import preprocess_input\n",
        "\n",
        "def preprocess(im, input_size):\n",
        "    im = im.resize(input_size)  # Resize gambar\n",
        "    im = np.array(im)  # Konversi ke array\n",
        "    im = preprocess_input(im)  # Normalisasi sesuai EfficientNet\n",
        "    return im\n"
      ]
    },
    {
      "cell_type": "code",
      "execution_count": 49,
      "id": "5d4814c8",
      "metadata": {
        "id": "5d4814c8",
        "outputId": "08c72255-d4d8-4b14-e795-848fe8e628da",
        "colab": {
          "base_uri": "https://localhost:8080/"
        }
      },
      "outputs": [
        {
          "output_type": "stream",
          "name": "stdout",
          "text": [
            "Collecting efficientnet\n",
            "  Downloading efficientnet-1.1.1-py3-none-any.whl.metadata (6.4 kB)\n",
            "Collecting keras-applications<=1.0.8,>=1.0.7 (from efficientnet)\n",
            "  Downloading Keras_Applications-1.0.8-py3-none-any.whl.metadata (1.7 kB)\n",
            "Requirement already satisfied: scikit-image in /usr/local/lib/python3.10/dist-packages (from efficientnet) (0.24.0)\n",
            "Requirement already satisfied: numpy>=1.9.1 in /usr/local/lib/python3.10/dist-packages (from keras-applications<=1.0.8,>=1.0.7->efficientnet) (1.26.4)\n",
            "Requirement already satisfied: h5py in /usr/local/lib/python3.10/dist-packages (from keras-applications<=1.0.8,>=1.0.7->efficientnet) (3.12.1)\n",
            "Requirement already satisfied: scipy>=1.9 in /usr/local/lib/python3.10/dist-packages (from scikit-image->efficientnet) (1.13.1)\n",
            "Requirement already satisfied: networkx>=2.8 in /usr/local/lib/python3.10/dist-packages (from scikit-image->efficientnet) (3.4.2)\n",
            "Requirement already satisfied: pillow>=9.1 in /usr/local/lib/python3.10/dist-packages (from scikit-image->efficientnet) (11.0.0)\n",
            "Requirement already satisfied: imageio>=2.33 in /usr/local/lib/python3.10/dist-packages (from scikit-image->efficientnet) (2.36.0)\n",
            "Requirement already satisfied: tifffile>=2022.8.12 in /usr/local/lib/python3.10/dist-packages (from scikit-image->efficientnet) (2024.9.20)\n",
            "Requirement already satisfied: packaging>=21 in /usr/local/lib/python3.10/dist-packages (from scikit-image->efficientnet) (24.2)\n",
            "Requirement already satisfied: lazy-loader>=0.4 in /usr/local/lib/python3.10/dist-packages (from scikit-image->efficientnet) (0.4)\n",
            "Downloading efficientnet-1.1.1-py3-none-any.whl (18 kB)\n",
            "Downloading Keras_Applications-1.0.8-py3-none-any.whl (50 kB)\n",
            "\u001b[2K   \u001b[90m━━━━━━━━━━━━━━━━━━━━━━━━━━━━━━━━━━━━━━━━\u001b[0m \u001b[32m50.7/50.7 kB\u001b[0m \u001b[31m3.4 MB/s\u001b[0m eta \u001b[36m0:00:00\u001b[0m\n",
            "\u001b[?25hInstalling collected packages: keras-applications, efficientnet\n",
            "Successfully installed efficientnet-1.1.1 keras-applications-1.0.8\n"
          ]
        }
      ],
      "source": [
        "!pip install efficientnet"
      ]
    },
    {
      "cell_type": "code",
      "source": [
        "from tensorflow.keras.models import load_model\n",
        "from tensorflow.keras.activations import swish\n",
        "from tensorflow.keras.utils import get_custom_objects\n",
        "import efficientnet.keras # Import efficientnet.keras\n",
        "\n",
        "# Define the 'swish' activation function if it's not already defined\n",
        "# get_custom_objects().update({'swish': swish}) # update custom objects with swish\n",
        "\n",
        "MODEL_PATH = 'project-PM-kel-05/model/fish_project/model.keras'\n",
        "model = load_model(MODEL_PATH, compile=False, custom_objects={'swish': swish}) # Pass custom_objects to load_model"
      ],
      "metadata": {
        "id": "mkhuntXJOzsH"
      },
      "id": "mkhuntXJOzsH",
      "execution_count": 59,
      "outputs": []
    },
    {
      "cell_type": "code",
      "source": [
        "from tensorflow.keras.models import load_model\n",
        "from tensorflow.keras.utils import get_custom_objects\n",
        "from tensorflow.keras.activations import swish\n",
        "import numpy as np\n",
        "from PIL import Image\n",
        "\n",
        "# Fungsi swish\n",
        "def swish(x):\n",
        "    import tensorflow as tf\n",
        "    return x * tf.keras.backend.sigmoid(x)\n",
        "\n",
        "# Update custom_objects\n",
        "get_custom_objects().update({'swish': swish})\n",
        "\n",
        "# Define labels\n",
        "labels = ['mujahir', 'red_devil', 'sepat']\n",
        "\n",
        "# Load model\n",
        "MODEL_PATH = 'project-PM-kel-05/model/fish_project/model.keras'\n",
        "model = load_model(MODEL_PATH, compile=False, custom_objects={'swish': swish})\n",
        "print(\"Model loaded successfully!\")\n",
        "\n",
        "# Preprocess gambar\n",
        "def preprocess_image(image_path, input_size):\n",
        "    im = Image.open(image_path).convert('RGB')\n",
        "    im = im.resize(input_size)\n",
        "    im = np.array(im) / 255.0  # Normalisasi ke [0, 1]\n",
        "    im = np.expand_dims(im, axis=0)  # Tambahkan batch dimension\n",
        "    return im\n",
        "\n",
        "# Path gambar\n",
        "# IMAGE_PATH = 'project-PM-kel-05/new_data/devil.jpg'\n",
        "\n",
        "IMAGE_PATH = 'project-PM-kel-05/dataset/test/red_devil/Red-Devil-240_jpg.rf.e1319a11c224dd53ae7d4db6627c6f8a.jpg'\n",
        "\n",
        "# Preprocess gambar\n",
        "input_size = (224, 224)\n",
        "X = preprocess_image(IMAGE_PATH, input_size)\n",
        "print(\"Shape of X:\", X.shape)\n",
        "\n",
        "# Prediksi\n",
        "try:\n",
        "    y = model.predict(X)\n",
        "    print(\"Prediction successful!\")\n",
        "    # Cari label dengan probabilitas tertinggi\n",
        "    predicted_label = labels[np.argmax(y)]\n",
        "    confidence = np.max(y)\n",
        "    print(f\"Predicted Label: {predicted_label}, Confidence: {confidence}\")\n",
        "except Exception as e:\n",
        "    print(\"Error during prediction:\", str(e))\n"
      ],
      "metadata": {
        "id": "qdOut5PfQ872",
        "outputId": "5d5ff21d-06e8-4d29-bb67-aa0354e2fb65",
        "colab": {
          "base_uri": "https://localhost:8080/"
        }
      },
      "id": "qdOut5PfQ872",
      "execution_count": 81,
      "outputs": [
        {
          "output_type": "stream",
          "name": "stdout",
          "text": [
            "Model loaded successfully!\n",
            "Shape of X: (1, 224, 224, 3)\n",
            "\u001b[1m1/1\u001b[0m \u001b[32m━━━━━━━━━━━━━━━━━━━━\u001b[0m\u001b[37m\u001b[0m \u001b[1m3s\u001b[0m 3s/step\n",
            "Prediction successful!\n",
            "Predicted Label: red_devil, Confidence: 0.9999998807907104\n"
          ]
        }
      ]
    },
    {
      "cell_type": "code",
      "execution_count": 62,
      "id": "83b7e029",
      "metadata": {
        "id": "83b7e029",
        "outputId": "367edf17-1a1f-4e77-9de9-162950e44db5",
        "colab": {
          "base_uri": "https://localhost:8080/",
          "height": 460
        }
      },
      "outputs": [
        {
          "output_type": "stream",
          "name": "stdout",
          "text": [
            "Shape of input: (1, 224, 224, 3)\n"
          ]
        },
        {
          "output_type": "error",
          "ename": "AttributeError",
          "evalue": "Exception encountered when calling Activation.call().\n\n\u001b[1mmodule 'keras.api.backend' has no attribute 'sigmoid'\u001b[0m\n\nArguments received by Activation.call():\n  • inputs=tf.Tensor(shape=(1, 112, 112, 32), dtype=float32)",
          "traceback": [
            "\u001b[0;31m---------------------------------------------------------------------------\u001b[0m",
            "\u001b[0;31mAttributeError\u001b[0m                            Traceback (most recent call last)",
            "\u001b[0;32m<ipython-input-62-9e9b7710e625>\u001b[0m in \u001b[0;36m<cell line: 15>\u001b[0;34m()\u001b[0m\n\u001b[1;32m     13\u001b[0m \u001b[0;34m\u001b[0m\u001b[0m\n\u001b[1;32m     14\u001b[0m \u001b[0;31m# Lakukan prediksi\u001b[0m\u001b[0;34m\u001b[0m\u001b[0;34m\u001b[0m\u001b[0m\n\u001b[0;32m---> 15\u001b[0;31m \u001b[0my\u001b[0m \u001b[0;34m=\u001b[0m \u001b[0mmodel\u001b[0m\u001b[0;34m.\u001b[0m\u001b[0mpredict\u001b[0m\u001b[0;34m(\u001b[0m\u001b[0mX\u001b[0m\u001b[0;34m)\u001b[0m\u001b[0;34m\u001b[0m\u001b[0;34m\u001b[0m\u001b[0m\n\u001b[0m\u001b[1;32m     16\u001b[0m \u001b[0;34m\u001b[0m\u001b[0m\n\u001b[1;32m     17\u001b[0m \u001b[0;31m# Menampilkan hasil\u001b[0m\u001b[0;34m\u001b[0m\u001b[0;34m\u001b[0m\u001b[0m\n",
            "\u001b[0;32m/usr/local/lib/python3.10/dist-packages/keras/src/utils/traceback_utils.py\u001b[0m in \u001b[0;36merror_handler\u001b[0;34m(*args, **kwargs)\u001b[0m\n\u001b[1;32m    120\u001b[0m             \u001b[0;31m# To get the full stack trace, call:\u001b[0m\u001b[0;34m\u001b[0m\u001b[0;34m\u001b[0m\u001b[0m\n\u001b[1;32m    121\u001b[0m             \u001b[0;31m# `keras.config.disable_traceback_filtering()`\u001b[0m\u001b[0;34m\u001b[0m\u001b[0;34m\u001b[0m\u001b[0m\n\u001b[0;32m--> 122\u001b[0;31m             \u001b[0;32mraise\u001b[0m \u001b[0me\u001b[0m\u001b[0;34m.\u001b[0m\u001b[0mwith_traceback\u001b[0m\u001b[0;34m(\u001b[0m\u001b[0mfiltered_tb\u001b[0m\u001b[0;34m)\u001b[0m \u001b[0;32mfrom\u001b[0m \u001b[0;32mNone\u001b[0m\u001b[0;34m\u001b[0m\u001b[0;34m\u001b[0m\u001b[0m\n\u001b[0m\u001b[1;32m    123\u001b[0m         \u001b[0;32mfinally\u001b[0m\u001b[0;34m:\u001b[0m\u001b[0;34m\u001b[0m\u001b[0;34m\u001b[0m\u001b[0m\n\u001b[1;32m    124\u001b[0m             \u001b[0;32mdel\u001b[0m \u001b[0mfiltered_tb\u001b[0m\u001b[0;34m\u001b[0m\u001b[0;34m\u001b[0m\u001b[0m\n",
            "\u001b[0;32m/usr/local/lib/python3.10/dist-packages/efficientnet/model.py\u001b[0m in \u001b[0;36mswish\u001b[0;34m(x)\u001b[0m\n\u001b[1;32m    113\u001b[0m                 \u001b[0;32mpass\u001b[0m\u001b[0;34m\u001b[0m\u001b[0;34m\u001b[0m\u001b[0m\n\u001b[1;32m    114\u001b[0m \u001b[0;34m\u001b[0m\u001b[0m\n\u001b[0;32m--> 115\u001b[0;31m         \u001b[0;32mreturn\u001b[0m \u001b[0mx\u001b[0m \u001b[0;34m*\u001b[0m \u001b[0mbackend\u001b[0m\u001b[0;34m.\u001b[0m\u001b[0msigmoid\u001b[0m\u001b[0;34m(\u001b[0m\u001b[0mx\u001b[0m\u001b[0;34m)\u001b[0m\u001b[0;34m\u001b[0m\u001b[0;34m\u001b[0m\u001b[0m\n\u001b[0m\u001b[1;32m    116\u001b[0m \u001b[0;34m\u001b[0m\u001b[0m\n\u001b[1;32m    117\u001b[0m     \u001b[0;32mreturn\u001b[0m \u001b[0mswish\u001b[0m\u001b[0;34m\u001b[0m\u001b[0;34m\u001b[0m\u001b[0m\n",
            "\u001b[0;31mAttributeError\u001b[0m: Exception encountered when calling Activation.call().\n\n\u001b[1mmodule 'keras.api.backend' has no attribute 'sigmoid'\u001b[0m\n\nArguments received by Activation.call():\n  • inputs=tf.Tensor(shape=(1, 112, 112, 32), dtype=float32)"
          ]
        }
      ],
      "source": [
        "# Path ke gambar\n",
        "IMAGE_PATH = 'project-PM-kel-05/dataset/test/sepat/Sepat-37_png.rf.1713aff88f8f62d6910b073cd5ebd07e.jpg'\n",
        "\n",
        "# Ukuran input yang sesuai dengan model\n",
        "input_size = (224, 224)  # Sesuaikan dengan arsitektur model Anda\n",
        "\n",
        "# Preprocess gambar\n",
        "if os.path.exists(IMAGE_PATH):\n",
        "    X = preprocess_image(IMAGE_PATH, input_size)\n",
        "    print(f\"Shape of input: {X.shape}\")\n",
        "else:\n",
        "    raise FileNotFoundError(f\"Image not found: {IMAGE_PATH}\")\n",
        "\n",
        "# Lakukan prediksi\n",
        "y = model.predict(X)\n",
        "\n",
        "# Menampilkan hasil\n",
        "labels = ['Class 1', 'Class 2', 'Class 3']  # Sesuaikan dengan kelas yang digunakan saat pelatihan\n",
        "predicted_label = labels[np.argmax(y)]\n",
        "confidence = np.max(y)\n",
        "\n",
        "print(f\"Predicted Label: {predicted_label}, Confidence: {confidence}\")\n"
      ]
    },
    {
      "cell_type": "code",
      "source": [
        "print(X.shape)  # Debugging bentuk data input\n"
      ],
      "metadata": {
        "id": "_4J7KME4QXc4",
        "outputId": "9962cd03-2bd6-4e6a-9f80-b1facd71f189",
        "colab": {
          "base_uri": "https://localhost:8080/"
        }
      },
      "id": "_4J7KME4QXc4",
      "execution_count": 57,
      "outputs": [
        {
          "output_type": "stream",
          "name": "stdout",
          "text": [
            "(1, 224, 224, 3)\n"
          ]
        }
      ]
    },
    {
      "cell_type": "code",
      "execution_count": null,
      "id": "5acb8709",
      "metadata": {
        "id": "5acb8709",
        "outputId": "9e5abbb7-b0d5-4b70-c8f4-f87229df6549"
      },
      "outputs": [
        {
          "name": "stdout",
          "output_type": "stream",
          "text": [
            "\u001b[1m1/1\u001b[0m \u001b[32m━━━━━━━━━━━━━━━━━━━━\u001b[0m\u001b[37m\u001b[0m \u001b[1m0s\u001b[0m 80ms/step\n",
            "red_devil 0.9957628\n"
          ]
        }
      ],
      "source": [
        "# read image\n",
        "im = Image.open('dataset/test/red_devil/Red-Devil-174_jpg.rf.1087bd37678ae295e60fc70e8bfe3a04.jpg')\n",
        "X = preprocess(im,input_size)\n",
        "X = reshape([X])\n",
        "y = model.predict(X)\n",
        "\n",
        "print( labels[np.argmax(y)], np.max(y) )\n"
      ]
    },
    {
      "cell_type": "code",
      "execution_count": null,
      "id": "3cdb7e46",
      "metadata": {
        "id": "3cdb7e46",
        "outputId": "028efab2-a40b-485b-b688-d7cd85b7166b"
      },
      "outputs": [
        {
          "name": "stdout",
          "output_type": "stream",
          "text": [
            "\u001b[1m1/1\u001b[0m \u001b[32m━━━━━━━━━━━━━━━━━━━━\u001b[0m\u001b[37m\u001b[0m \u001b[1m0s\u001b[0m 97ms/step\n",
            "mujahir 0.99999976\n"
          ]
        }
      ],
      "source": [
        "# read image\n",
        "im = Image.open('dataset/test/mujahir/Mujahir-171_jpg.rf.78abf75d3b411e183bd6158ab3f11d06.jpg')\n",
        "X = preprocess(im,input_size)\n",
        "X = reshape([X])\n",
        "y = model.predict(X)\n",
        "\n",
        "print( labels[np.argmax(y)], np.max(y) )\n"
      ]
    },
    {
      "cell_type": "code",
      "execution_count": null,
      "id": "2457dfbd",
      "metadata": {
        "id": "2457dfbd"
      },
      "outputs": [],
      "source": []
    }
  ],
  "metadata": {
    "colab": {
      "provenance": [],
      "include_colab_link": true
    },
    "kernelspec": {
      "display_name": "Python 3",
      "language": "python",
      "name": "python3"
    },
    "language_info": {
      "codemirror_mode": {
        "name": "ipython",
        "version": 3
      },
      "file_extension": ".py",
      "mimetype": "text/x-python",
      "name": "python",
      "nbconvert_exporter": "python",
      "pygments_lexer": "ipython3",
      "version": "3.11.5"
    }
  },
  "nbformat": 4,
  "nbformat_minor": 5
}