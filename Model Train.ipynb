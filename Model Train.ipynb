{
  "cells": [
    {
      "cell_type": "code",
      "source": [
        "# !git clone https://github.com/rivaelsagala/project-PM-kel-05.git\n"
      ],
      "metadata": {
        "id": "ZFtL_8tpwZNz"
      },
      "execution_count": 1,
      "outputs": []
    },
    {
      "cell_type": "markdown",
      "metadata": {
        "id": "o6AKTAX5u10d"
      },
      "source": [
        "# Membuat Classifier nya"
      ]
    },
    {
      "cell_type": "code",
      "execution_count": 2,
      "metadata": {
        "ExecuteTime": {
          "end_time": "2020-04-27T23:07:41.569964Z",
          "start_time": "2020-04-27T23:07:29.039041Z"
        },
        "id": "vPekoUjDu10f"
      },
      "outputs": [],
      "source": [
        "import tensorflow as tf"
      ]
    },
    {
      "cell_type": "code",
      "execution_count": 3,
      "metadata": {
        "ExecuteTime": {
          "end_time": "2020-04-28T00:15:16.601007Z",
          "start_time": "2020-04-28T00:15:16.598774Z"
        },
        "id": "wIOrGzxWu10g"
      },
      "outputs": [],
      "source": [
        "# Define Input Parameters\n",
        "dim = (640, 640)\n",
        "# dim = (456, 456)\n",
        "channel = (3, )\n",
        "input_shape = dim + channel\n",
        "\n",
        "#batch size\n",
        "batch_size = 16\n",
        "\n",
        "#Epoch\n",
        "epoch = 10\n",
        "\n"
      ]
    },
    {
      "cell_type": "markdown",
      "metadata": {
        "id": "pNSbAWzyu10g"
      },
      "source": [
        "# Membuat dataset generator"
      ]
    },
    {
      "cell_type": "code",
      "execution_count": 4,
      "metadata": {
        "ExecuteTime": {
          "end_time": "2020-04-27T23:07:41.609100Z",
          "start_time": "2020-04-27T23:07:41.582485Z"
        },
        "id": "JIiVXsrcu10g"
      },
      "outputs": [],
      "source": [
        "from tensorflow.keras.preprocessing.image import ImageDataGenerator"
      ]
    },
    {
      "cell_type": "markdown",
      "metadata": {
        "id": "eY2zhNXlu10g"
      },
      "source": [
        "## Mendefinisikan Data |Generatornya"
      ]
    },
    {
      "cell_type": "code",
      "execution_count": 5,
      "metadata": {
        "ExecuteTime": {
          "end_time": "2020-04-27T23:07:41.619545Z",
          "start_time": "2020-04-27T23:07:41.614388Z"
        },
        "id": "UGsaX96fu10g"
      },
      "outputs": [],
      "source": [
        "train_datagen = ImageDataGenerator(rescale=1. / 255,\n",
        "                                   shear_range=0.2,\n",
        "                                   zoom_range=0.2,\n",
        "                                   horizontal_flip=True)\n",
        "\n",
        "val_datagen = ImageDataGenerator(rescale=1. / 255,\n",
        "                                 shear_range=0.2,\n",
        "                                 zoom_range=0.2,\n",
        "                                 horizontal_flip=True)\n",
        "\n",
        "test_datagen = ImageDataGenerator(rescale=1. / 255,\n",
        "                                  shear_range=0.2,\n",
        "                                  zoom_range=0.2,\n",
        "                                  horizontal_flip=True)"
      ]
    },
    {
      "cell_type": "markdown",
      "metadata": {
        "id": "iRdgw5hdu10g"
      },
      "source": [
        "## Mendefinisikan asal folder sumber file berasal"
      ]
    },
    {
      "cell_type": "code",
      "execution_count": 6,
      "metadata": {
        "ExecuteTime": {
          "end_time": "2020-04-28T03:55:43.409949Z",
          "start_time": "2020-04-28T03:55:43.090028Z"
        },
        "scrolled": false,
        "colab": {
          "base_uri": "https://localhost:8080/"
        },
        "id": "dgGAUQiXu10h",
        "outputId": "120f1840-2be6-4077-b73b-a4e119b0afa3"
      },
      "outputs": [
        {
          "output_type": "stream",
          "name": "stdout",
          "text": [
            "Found 3570 images belonging to 3 classes.\n",
            "Found 339 images belonging to 3 classes.\n",
            "Found 173 images belonging to 3 classes.\n"
          ]
        }
      ],
      "source": [
        "# binary = [1,0,0,0,0] [0,1,0,0,0] [0,0,1,0,0] [0,0,0,1,0] [0,0,0,0,1]\n",
        "# categorical = 1,2,3,4,5\n",
        "\n",
        "train_generator = train_datagen.flow_from_directory('project-PM-kel-05/dataset/train/',\n",
        "                                                    target_size=dim,\n",
        "                                                    batch_size=batch_size,\n",
        "                                                    class_mode='categorical',\n",
        "                                                    shuffle=True)\n",
        "\n",
        "val_generator = val_datagen.flow_from_directory('project-PM-kel-05/dataset/valid/',\n",
        "                                                target_size=dim,\n",
        "                                                batch_size=batch_size,\n",
        "                                                class_mode='categorical',\n",
        "                                                shuffle=True)\n",
        "\n",
        "test_generator = test_datagen.flow_from_directory('project-PM-kel-05/dataset/test/',\n",
        "                                                  target_size=dim,\n",
        "                                                  batch_size=batch_size,\n",
        "                                                  class_mode='categorical',\n",
        "                                                  shuffle=True)\n",
        "\n",
        "num_class = test_generator.num_classes\n",
        "labels = train_generator.class_indices.keys()"
      ]
    },
    {
      "cell_type": "code",
      "execution_count": 7,
      "metadata": {
        "ExecuteTime": {
          "end_time": "2020-04-28T03:55:48.345523Z",
          "start_time": "2020-04-28T03:55:48.343497Z"
        },
        "run_control": {
          "marked": true
        },
        "colab": {
          "base_uri": "https://localhost:8080/"
        },
        "id": "uM6MJhmxu10h",
        "outputId": "fd4336b8-027a-413a-8df6-9f78a0fcc6a7"
      },
      "outputs": [
        {
          "output_type": "stream",
          "name": "stdout",
          "text": [
            "dict_keys(['mujahir', 'red_devil', 'sepat'])\n"
          ]
        }
      ],
      "source": [
        "print(labels)"
      ]
    },
    {
      "cell_type": "code",
      "execution_count": 7,
      "metadata": {
        "id": "0Mn9hrbuu10h"
      },
      "outputs": [],
      "source": []
    },
    {
      "cell_type": "code",
      "execution_count": 7,
      "metadata": {
        "id": "E__YebmLu10h"
      },
      "outputs": [],
      "source": []
    },
    {
      "cell_type": "markdown",
      "metadata": {
        "id": "3yCBncHhu10i"
      },
      "source": [
        "## Membuat tf.data untuk kompabilitas yang lebih baik untuk tensorflow 2.1 (tf.keras)"
      ]
    },
    {
      "cell_type": "code",
      "execution_count": 9,
      "metadata": {
        "ExecuteTime": {
          "end_time": "2020-04-27T23:07:42.164380Z",
          "start_time": "2020-04-27T23:07:42.161649Z"
        },
        "id": "kty9k3qCu10i"
      },
      "outputs": [],
      "source": [
        "def tf_data_generator(generator, input_shape):\n",
        "    num_class = generator.num_classes\n",
        "    tf_generator = tf.data.Dataset.from_generator(\n",
        "        lambda: generator,\n",
        "        output_types=(tf.float32, tf.float32),\n",
        "        output_shapes=([None\n",
        "                        , input_shape[0]\n",
        "                        , input_shape[1]\n",
        "                        , input_shape[2]]\n",
        "                       ,[None, num_class])\n",
        "    )\n",
        "    return tf_generator"
      ]
    },
    {
      "cell_type": "code",
      "execution_count": 10,
      "metadata": {
        "ExecuteTime": {
          "end_time": "2020-04-27T23:07:42.240950Z",
          "start_time": "2020-04-27T23:07:42.168871Z"
        },
        "colab": {
          "base_uri": "https://localhost:8080/"
        },
        "id": "4VAwKQggu10i",
        "outputId": "4e7e9a50-241b-4322-e7d8-4610f1a1c5aa"
      },
      "outputs": [
        {
          "output_type": "stream",
          "name": "stderr",
          "text": [
            "WARNING:tensorflow:From <ipython-input-9-ecf6b555a554>:3: calling DatasetV2.from_generator (from tensorflow.python.data.ops.dataset_ops) with output_types is deprecated and will be removed in a future version.\n",
            "Instructions for updating:\n",
            "Use output_signature instead\n",
            "WARNING:tensorflow:From <ipython-input-9-ecf6b555a554>:3: calling DatasetV2.from_generator (from tensorflow.python.data.ops.dataset_ops) with output_shapes is deprecated and will be removed in a future version.\n",
            "Instructions for updating:\n",
            "Use output_signature instead\n"
          ]
        }
      ],
      "source": [
        "# Menggunakan fungsi yang diperbaiki\n",
        "train_data = tf_data_generator(train_generator, input_shape)\n",
        "test_data = tf_data_generator(test_generator, input_shape)\n",
        "val_data = tf_data_generator(val_generator, input_shape)"
      ]
    },
    {
      "cell_type": "markdown",
      "metadata": {
        "id": "kvjrFlO7u10i"
      },
      "source": [
        "# Membuat Struktur CNN"
      ]
    },
    {
      "cell_type": "markdown",
      "metadata": {
        "id": "hFXSoHSeu10i"
      },
      "source": [
        "## Manualy define network"
      ]
    },
    {
      "cell_type": "code",
      "execution_count": null,
      "metadata": {
        "ExecuteTime": {
          "end_time": "2020-04-05T01:02:52.135221Z",
          "start_time": "2020-04-05T01:02:52.132534Z"
        },
        "id": "-I277qLlu10i"
      },
      "outputs": [],
      "source": [
        "from tensorflow.keras import layers, Sequential\n",
        "from tensorflow.keras.models import Model\n",
        "from tensorflow.keras.layers import Conv2D, Activation, MaxPooling2D, Dropout, Flatten, Dense"
      ]
    },
    {
      "cell_type": "code",
      "execution_count": null,
      "metadata": {
        "ExecuteTime": {
          "end_time": "2020-04-05T01:02:53.626958Z",
          "start_time": "2020-04-05T01:02:53.225773Z"
        },
        "id": "hFsVtFH5u10i"
      },
      "outputs": [],
      "source": [
        "model = Sequential()\n",
        "model.add(Conv2D(128, (3, 3), padding='same', input_shape=input_shape))\n",
        "\n",
        "model.add(Activation('relu'))\n",
        "model.add(Conv2D(32, (3, 3)))\n",
        "model.add(Activation('relu'))\n",
        "model.add(MaxPooling2D(pool_size=(2, 2)))\n",
        "model.add(Dropout(0.25))\n",
        "\n",
        "model.add(Conv2D(64, (3, 3), padding='same'))\n",
        "model.add(Activation('relu'))\n",
        "model.add(Conv2D(64, (3, 3)))\n",
        "model.add(Activation('relu'))\n",
        "model.add(MaxPooling2D(pool_size=(2, 2)))\n",
        "model.add(Dropout(0.25))\n",
        "\n",
        "model.add(Flatten())\n",
        "model.add(Dense(512))\n",
        "model.add(Activation('relu'))\n",
        "model.add(Dropout(0.5))\n",
        "model.add(Dense(num_class))\n",
        "model.add(Activation('softmax'))\n",
        "\n",
        "# Compile the model\n",
        "print('Compiling Model.......')\n",
        "model.compile(optimizer='adam',\n",
        "              loss='categorical_crossentropy',\n",
        "              metrics=['accuracy'])"
      ]
    },
    {
      "cell_type": "code",
      "execution_count": null,
      "metadata": {
        "ExecuteTime": {
          "end_time": "2020-04-05T01:02:53.916849Z",
          "start_time": "2020-04-05T01:02:53.915340Z"
        },
        "scrolled": true,
        "id": "LVHD68v1u10i"
      },
      "outputs": [],
      "source": [
        "# model.summary()"
      ]
    },
    {
      "cell_type": "code",
      "execution_count": null,
      "metadata": {
        "id": "FzTfpoMyu10i"
      },
      "outputs": [],
      "source": []
    },
    {
      "cell_type": "markdown",
      "metadata": {
        "id": "N1UrCCm3u10i"
      },
      "source": [
        "## Using Pre-trained model / Transfer Learning"
      ]
    },
    {
      "cell_type": "code",
      "execution_count": null,
      "metadata": {
        "id": "TZxOwlUWu10i"
      },
      "outputs": [],
      "source": []
    },
    {
      "cell_type": "markdown",
      "metadata": {
        "id": "OrcmMQ0Xu10j"
      },
      "source": [
        "## Prebuild model"
      ]
    },
    {
      "cell_type": "markdown",
      "metadata": {
        "id": "eFwK5s8Uu10j"
      },
      "source": [
        "### Build Base Model"
      ]
    },
    {
      "cell_type": "code",
      "execution_count": null,
      "metadata": {
        "ExecuteTime": {
          "end_time": "2020-04-28T00:15:21.324641Z",
          "start_time": "2020-04-28T00:15:19.861604Z"
        },
        "id": "Uz1mzToOu10j"
      },
      "outputs": [],
      "source": [
        "from tensorflow.keras.applications import MobileNetV2\n",
        "\n",
        "# get base models\n",
        "base_model = MobileNetV2(\n",
        "    input_shape=input_shape,\n",
        "    include_top=False,\n",
        "    weights='imagenet',\n",
        "    classes=num_class,\n",
        ")"
      ]
    },
    {
      "cell_type": "markdown",
      "metadata": {
        "id": "sNwDKnhKu10j"
      },
      "source": [
        "### Add top layer network"
      ]
    },
    {
      "cell_type": "code",
      "execution_count": null,
      "metadata": {
        "ExecuteTime": {
          "end_time": "2020-04-28T00:15:22.439171Z",
          "start_time": "2020-04-28T00:15:22.437438Z"
        },
        "id": "R2hb8fTju10j"
      },
      "outputs": [],
      "source": [
        "from tensorflow.keras import layers,Sequential\n",
        "from tensorflow.keras.models import Model"
      ]
    },
    {
      "cell_type": "code",
      "execution_count": null,
      "metadata": {
        "ExecuteTime": {
          "end_time": "2020-04-28T00:15:34.516170Z",
          "start_time": "2020-04-28T00:15:34.476569Z"
        },
        "id": "9-49p6CBu10j"
      },
      "outputs": [],
      "source": [
        "#Adding custom layers\n",
        "x = base_model.output\n",
        "x = layers.GlobalAveragePooling2D()(x)\n",
        "x = layers.Dropout(0.2)(x)\n",
        "x = layers.Dense(1024, activation=\"relu\")(x)\n",
        "\n",
        "predictions = layers.Dense(num_class, activation=\"softmax\")(x)\n",
        "model = Model(inputs=base_model.input, outputs=predictions)"
      ]
    },
    {
      "cell_type": "code",
      "execution_count": null,
      "metadata": {
        "ExecuteTime": {
          "end_time": "2020-04-28T00:15:39.773224Z",
          "start_time": "2020-04-28T00:15:39.741303Z"
        },
        "id": "R_Ewphniu10j"
      },
      "outputs": [],
      "source": [
        "# Compile the model\n",
        "print('Compiling Model.......')\n",
        "model.compile(optimizer='adam',\n",
        "              loss='categorical_crossentropy',\n",
        "              metrics=['accuracy'])"
      ]
    },
    {
      "cell_type": "code",
      "execution_count": null,
      "metadata": {
        "id": "AhOVI6m8u10j"
      },
      "outputs": [],
      "source": [
        "# model.summary()"
      ]
    },
    {
      "cell_type": "markdown",
      "metadata": {
        "id": "W2qk7q0Gu10j"
      },
      "source": [
        "## Effinet"
      ]
    },
    {
      "cell_type": "code",
      "execution_count": null,
      "metadata": {
        "ExecuteTime": {
          "end_time": "2020-04-05T00:46:28.470103Z",
          "start_time": "2020-04-05T00:46:28.468004Z"
        },
        "id": "zIi5dPM1u10j"
      },
      "outputs": [],
      "source": [
        "!pip install -U --pre efficientnet"
      ]
    },
    {
      "cell_type": "code",
      "execution_count": null,
      "metadata": {
        "ExecuteTime": {
          "end_time": "2020-04-28T00:06:42.639757Z",
          "start_time": "2020-04-28T00:06:41.172821Z"
        },
        "id": "XGHW53qZu10j"
      },
      "outputs": [],
      "source": [
        "from efficientnet.tfkeras import EfficientNetB1"
      ]
    },
    {
      "cell_type": "markdown",
      "metadata": {
        "id": "67SsbgFcu10k"
      },
      "source": [
        "### Build Base model"
      ]
    },
    {
      "cell_type": "code",
      "execution_count": null,
      "metadata": {
        "ExecuteTime": {
          "end_time": "2020-04-28T00:06:45.748689Z",
          "start_time": "2020-04-28T00:06:43.400861Z"
        },
        "id": "MCekg-_Su10k"
      },
      "outputs": [],
      "source": [
        "# get base models\n",
        "base_model = EfficientNetB1(\n",
        "    input_shape=input_shape,\n",
        "    include_top=False,\n",
        "    weights='noisy-student',\n",
        "    classes=num_class,\n",
        ")"
      ]
    },
    {
      "cell_type": "markdown",
      "metadata": {
        "id": "QZr7xr7eu10k"
      },
      "source": [
        "### Add top network layer to models"
      ]
    },
    {
      "cell_type": "code",
      "execution_count": null,
      "metadata": {
        "ExecuteTime": {
          "end_time": "2020-04-28T00:06:49.522922Z",
          "start_time": "2020-04-28T00:06:49.521182Z"
        },
        "id": "oc40bs6bu10k"
      },
      "outputs": [],
      "source": [
        "from tensorflow.keras import layers,Sequential\n",
        "from tensorflow.keras.models import Model"
      ]
    },
    {
      "cell_type": "code",
      "execution_count": null,
      "metadata": {
        "ExecuteTime": {
          "end_time": "2020-04-28T00:06:50.134891Z",
          "start_time": "2020-04-28T00:06:50.083642Z"
        },
        "id": "tZKF8H8Lu10n"
      },
      "outputs": [],
      "source": [
        "#Adding custom layers\n",
        "x = base_model.output\n",
        "x = layers.GlobalAveragePooling2D()(x)\n",
        "x = layers.Dropout(0.5)(x)\n",
        "x = layers.Dense(1024, activation=\"relu\")(x)\n",
        "\n",
        "predictions = layers.Dense(num_class, activation=\"softmax\")(x)\n",
        "model = Model(inputs=base_model.input, outputs=predictions)"
      ]
    },
    {
      "cell_type": "code",
      "source": [
        "# model.summary()"
      ],
      "metadata": {
        "id": "QpCwNTKFyOh8"
      },
      "execution_count": null,
      "outputs": []
    },
    {
      "cell_type": "code",
      "execution_count": null,
      "metadata": {
        "ExecuteTime": {
          "end_time": "2020-04-28T00:06:52.601344Z",
          "start_time": "2020-04-28T00:06:52.558985Z"
        },
        "id": "jG4NXFCMu10o"
      },
      "outputs": [],
      "source": [
        "# Compile the model\n",
        "print('Compiling Model.......')\n",
        "model.compile(optimizer='adam',\n",
        "              loss='categorical_crossentropy',\n",
        "              metrics=['accuracy'])"
      ]
    },
    {
      "cell_type": "code",
      "execution_count": null,
      "metadata": {
        "id": "n1IjOV1mu10o"
      },
      "outputs": [],
      "source": []
    },
    {
      "cell_type": "markdown",
      "metadata": {
        "id": "OGv8gXxIu10o"
      },
      "source": [
        "## Visualize The final model"
      ]
    },
    {
      "cell_type": "code",
      "execution_count": null,
      "metadata": {
        "ExecuteTime": {
          "end_time": "2020-04-28T00:06:55.440845Z",
          "start_time": "2020-04-28T00:06:55.439197Z"
        },
        "id": "3KiZYqpRu10o"
      },
      "outputs": [],
      "source": [
        "import tensorflow as tf"
      ]
    },
    {
      "cell_type": "code",
      "execution_count": null,
      "metadata": {
        "id": "qWF5evd6u10o"
      },
      "outputs": [],
      "source": [
        "# model_viz = tf.keras.utils.plot_model(model,\n",
        "#                           to_file='model.png',\n",
        "#                           show_shapes=True,\n",
        "#                           show_layer_names=True,\n",
        "#                           rankdir='TB',\n",
        "#                           expand_nested=True,\n",
        "#                           dpi=55)\n",
        "# model_viz"
      ]
    },
    {
      "cell_type": "markdown",
      "metadata": {
        "id": "8fK6eT4hu10o"
      },
      "source": [
        "# Train Model"
      ]
    },
    {
      "cell_type": "code",
      "execution_count": null,
      "metadata": {
        "ExecuteTime": {
          "end_time": "2020-04-28T04:27:13.684881Z",
          "start_time": "2020-04-28T04:27:13.683143Z"
        },
        "id": "8RQHxJopu10o"
      },
      "outputs": [],
      "source": [
        "epoch = 2"
      ]
    },
    {
      "cell_type": "code",
      "execution_count": null,
      "metadata": {
        "ExecuteTime": {
          "end_time": "2020-04-28T04:43:10.762055Z",
          "start_time": "2020-04-28T04:27:14.129033Z"
        },
        "id": "bSquwvpRu10o"
      },
      "outputs": [],
      "source": [
        "history = model.fit(x=train_data,\n",
        "        steps_per_epoch=len(train_generator),\n",
        "        epochs=epoch,\n",
        "        validation_data=val_data,\n",
        "        validation_steps=len(val_generator),\n",
        "        shuffle=True,\n",
        "        verbose = 1)"
      ]
    },
    {
      "cell_type": "code",
      "execution_count": null,
      "metadata": {
        "ExecuteTime": {
          "end_time": "2020-04-28T04:49:58.925288Z",
          "start_time": "2020-04-28T04:49:58.922875Z"
        },
        "id": "4RV-cbRKu10p"
      },
      "outputs": [],
      "source": [
        "history.history['loss']"
      ]
    },
    {
      "cell_type": "code",
      "execution_count": null,
      "metadata": {
        "ExecuteTime": {
          "end_time": "2020-04-28T04:49:59.293485Z",
          "start_time": "2020-04-28T04:49:59.291038Z"
        },
        "id": "kJ6Cvumuu10p"
      },
      "outputs": [],
      "source": [
        "history.history['accuracy']"
      ]
    },
    {
      "cell_type": "markdown",
      "metadata": {
        "id": "HfwKu9zCu10p"
      },
      "source": [
        "# Plot the training"
      ]
    },
    {
      "cell_type": "code",
      "execution_count": null,
      "metadata": {
        "ExecuteTime": {
          "end_time": "2020-04-28T04:50:02.171980Z",
          "start_time": "2020-04-28T04:50:02.170248Z"
        },
        "id": "csj9WDtvu10p"
      },
      "outputs": [],
      "source": [
        "from matplotlib import pyplot as plt"
      ]
    },
    {
      "cell_type": "code",
      "execution_count": null,
      "metadata": {
        "ExecuteTime": {
          "end_time": "2020-04-28T04:50:02.464233Z",
          "start_time": "2020-04-28T04:50:02.361846Z"
        },
        "id": "4lokZAFpu10p"
      },
      "outputs": [],
      "source": [
        "# Plot history: MAE\n",
        "plt.plot(history.history['loss'], label='Training Loss')\n",
        "plt.plot(history.history['val_loss'], label='Validation Loss')\n",
        "plt.title('Training and Validation Loss')\n",
        "plt.ylabel('value')\n",
        "plt.xlabel('No. epoch')\n",
        "plt.legend(loc=\"upper left\")\n",
        "plt.show()"
      ]
    },
    {
      "cell_type": "code",
      "execution_count": null,
      "metadata": {
        "ExecuteTime": {
          "end_time": "2020-04-28T04:50:03.056913Z",
          "start_time": "2020-04-28T04:50:02.958192Z"
        },
        "id": "1TEXf2D6u10p"
      },
      "outputs": [],
      "source": [
        "# Plot history: MSE\n",
        "plt.plot(history.history['accuracy'], label='Training Accuracy')\n",
        "plt.plot(history.history['val_accuracy'], label='Validation Accuracy')\n",
        "plt.title('Training and Validation Accuracy')\n",
        "plt.ylabel('value')\n",
        "plt.xlabel('No. epoch')\n",
        "plt.legend(loc=\"upper left\")\n",
        "plt.show()"
      ]
    },
    {
      "cell_type": "markdown",
      "metadata": {
        "id": "WxqDlX-zu10p"
      },
      "source": [
        "# Save Model"
      ]
    },
    {
      "cell_type": "code",
      "execution_count": null,
      "metadata": {
        "ExecuteTime": {
          "end_time": "2020-04-28T04:50:05.626011Z",
          "start_time": "2020-04-28T04:50:05.624348Z"
        },
        "id": "GjDo_M7Pu10p"
      },
      "outputs": [],
      "source": [
        "import os"
      ]
    },
    {
      "cell_type": "code",
      "execution_count": null,
      "metadata": {
        "ExecuteTime": {
          "end_time": "2020-04-28T04:50:15.324841Z",
          "start_time": "2020-04-28T04:50:15.176405Z"
        },
        "id": "MfO6oORuu10p"
      },
      "outputs": [],
      "source": [
        "MODEL_BASE_PATH = \"model\"\n",
        "PROJECT_NAME = \"medium_project\"\n",
        "SAVE_MODEL_NAME = \"model.h5\"\n",
        "save_model_path = os.path.join(MODEL_BASE_PATH, PROJECT_NAME, SAVE_MODEL_NAME)\n",
        "\n",
        "if os.path.exists(os.path.join(MODEL_BASE_PATH, PROJECT_NAME)) == False:\n",
        "    os.makedirs(os.path.join(MODEL_BASE_PATH, PROJECT_NAME))\n",
        "\n",
        "print('Saving Model At {}...'.format(save_model_path))\n",
        "model.save(save_model_path,include_optimizer=False)\n",
        ""
      ]
    },
    {
      "cell_type": "code",
      "execution_count": null,
      "metadata": {
        "id": "Hlw0JOf3u10q"
      },
      "outputs": [],
      "source": []
    },
    {
      "cell_type": "markdown",
      "metadata": {
        "id": "wqe0DcCPu10q"
      },
      "source": [
        "# Evaluate Models"
      ]
    },
    {
      "cell_type": "code",
      "execution_count": null,
      "metadata": {
        "ExecuteTime": {
          "end_time": "2020-04-28T01:13:52.722441Z",
          "start_time": "2020-04-28T01:13:40.664164Z"
        },
        "id": "D1lZLZDhu10q"
      },
      "outputs": [],
      "source": [
        "loss, acc = model.evaluate(test_data,steps=len(test_generator),verbose=0)\n",
        "print('Accuracy on training data: {:.4f} \\nLoss on training data: {:.4f}'.format(acc,loss),'\\n')\n",
        "\n",
        "loss, acc = model.evaluate(test_data,steps=len(test_generator),verbose=0)\n",
        "print('Accuracy on test data: {:.4f} \\nLoss on test data: {:.4f}'.format(acc,loss),'\\n')"
      ]
    },
    {
      "cell_type": "code",
      "execution_count": null,
      "metadata": {
        "id": "ZofbYEvKu10q"
      },
      "outputs": [],
      "source": []
    },
    {
      "cell_type": "code",
      "execution_count": null,
      "metadata": {
        "id": "b0DNPWL-u10q"
      },
      "outputs": [],
      "source": []
    },
    {
      "cell_type": "code",
      "execution_count": null,
      "metadata": {
        "id": "qQG1LoBEu10q"
      },
      "outputs": [],
      "source": []
    },
    {
      "cell_type": "code",
      "execution_count": null,
      "metadata": {
        "id": "ebb10KT9u10q"
      },
      "outputs": [],
      "source": []
    }
  ],
  "metadata": {
    "kernelspec": {
      "display_name": "Python [conda env:tf2]",
      "language": "python",
      "name": "conda-env-tf2-py"
    },
    "language_info": {
      "codemirror_mode": {
        "name": "ipython",
        "version": 3
      },
      "file_extension": ".py",
      "mimetype": "text/x-python",
      "name": "python",
      "nbconvert_exporter": "python",
      "pygments_lexer": "ipython3",
      "version": "3.7.7"
    },
    "toc": {
      "base_numbering": 1,
      "nav_menu": {},
      "number_sections": true,
      "sideBar": true,
      "skip_h1_title": false,
      "title_cell": "Table of Contents",
      "title_sidebar": "Contents",
      "toc_cell": false,
      "toc_position": {
        "height": "calc(100% - 180px)",
        "left": "10px",
        "top": "150px",
        "width": "409.6px"
      },
      "toc_section_display": true,
      "toc_window_display": true
    },
    "varInspector": {
      "cols": {
        "lenName": 16,
        "lenType": 16,
        "lenVar": 40
      },
      "kernels_config": {
        "python": {
          "delete_cmd_postfix": "",
          "delete_cmd_prefix": "del ",
          "library": "var_list.py",
          "varRefreshCmd": "print(var_dic_list())"
        },
        "r": {
          "delete_cmd_postfix": ") ",
          "delete_cmd_prefix": "rm(",
          "library": "var_list.r",
          "varRefreshCmd": "cat(var_dic_list()) "
        }
      },
      "types_to_exclude": [
        "module",
        "function",
        "builtin_function_or_method",
        "instance",
        "_Feature"
      ],
      "window_display": false
    },
    "colab": {
      "provenance": []
    }
  },
  "nbformat": 4,
  "nbformat_minor": 0
}